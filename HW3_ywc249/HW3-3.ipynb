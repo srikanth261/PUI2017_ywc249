{
 "cells": [
  {
   "cell_type": "markdown",
   "metadata": {},
   "source": [
    "# PUI 2017 HW 3-3\n",
    "## Yuwen Chang (ywc249)"
   ]
  },
  {
   "cell_type": "markdown",
   "metadata": {},
   "source": [
    "## Question\n",
    "Is the new bus route imprving commute?\n",
    "\n",
    "## Null Hypothesis\n",
    "The commute time now is the same as or longer than before.\n",
    "\n",
    "$H_0$ : $T_{now} >= T_{before}$\n",
    "\n",
    "## Alternative Hypothesis\n",
    "The commute time is shorter than before, with statistical significance.\n",
    "\n",
    "$H_1$ : $T_{now} < T_{before}$\n",
    "\n",
    "## Significance level\n",
    "$\\alpha=0.05$\n",
    "\n",
    "## Z statistic\n",
    "$Z = \\frac{\\mu_{pop} - \\mu_{sample}}{\\sigma / \\sqrt{N}}$"
   ]
  },
  {
   "cell_type": "code",
   "execution_count": 1,
   "metadata": {
    "collapsed": true
   },
   "outputs": [],
   "source": [
    "import pandas as pd\n",
    "import numpy as np"
   ]
  },
  {
   "cell_type": "code",
   "execution_count": 2,
   "metadata": {
    "collapsed": true
   },
   "outputs": [],
   "source": [
    "# Fetch data\n",
    "url = \"https://raw.githubusercontent.com/fedhere/PUI2017_fb55/master/Lab3_fb55/times.txt\"\n",
    "time = pd.read_csv(url, header=None).values.squeeze()"
   ]
  },
  {
   "cell_type": "code",
   "execution_count": 3,
   "metadata": {
    "collapsed": true
   },
   "outputs": [],
   "source": [
    "# Set vars\n",
    "mu = 36\n",
    "s = 6\n",
    "m = time.mean()"
   ]
  },
  {
   "cell_type": "code",
   "execution_count": 4,
   "metadata": {},
   "outputs": [
    {
     "data": {
      "text/plain": [
       "-2.5563971861666701"
      ]
     },
     "execution_count": 4,
     "metadata": {},
     "output_type": "execute_result"
    }
   ],
   "source": [
    "# Calculate z score\n",
    "z = (m - mu) / (s / np.sqrt(len(time)))\n",
    "z"
   ]
  },
  {
   "cell_type": "code",
   "execution_count": 5,
   "metadata": {},
   "outputs": [
    {
     "name": "stdout",
     "output_type": "stream",
     "text": [
      "z statistic is -2.56\n",
      "Reject Null Hypothesis\n"
     ]
    }
   ],
   "source": [
    "# Examine the significance level of the difference\n",
    "print(\"z statistic is %.2f\"%z)\n",
    "if abs(z) >= 1.96:\n",
    "    print(\"Reject Null Hypothesis\")\n",
    "else:\n",
    "    print(\"Unable to reject Null Hypothesis\")"
   ]
  },
  {
   "cell_type": "markdown",
   "metadata": {
    "collapsed": true
   },
   "source": [
    "## Conclusion\n",
    "The Z-value exceeds the threshold (1.96) of single-tail Z-test at the significance level of $\\alpha = 0.05$.\n",
    "We are thus able to reject the null hypothesis because the probability of getting such difference (2.6 mins) is too small (< 5%) based on the Z distribution, given the population mean and standard deviation."
   ]
  },
  {
   "cell_type": "code",
   "execution_count": null,
   "metadata": {
    "collapsed": true
   },
   "outputs": [],
   "source": []
  }
 ],
 "metadata": {
  "kernelspec": {
   "display_name": "Python 3",
   "language": "python",
   "name": "python3"
  },
  "language_info": {
   "codemirror_mode": {
    "name": "ipython",
    "version": 3
   },
   "file_extension": ".py",
   "mimetype": "text/x-python",
   "name": "python",
   "nbconvert_exporter": "python",
   "pygments_lexer": "ipython3",
   "version": "3.6.1"
  }
 },
 "nbformat": 4,
 "nbformat_minor": 2
}
