{
 "cells": [
  {
   "cell_type": "markdown",
   "metadata": {},
   "source": [
    "### Finish z-test lab and turn it in as a notebook .\n",
    "\n",
    "I am looking for here is: seeing a good Null/alternative hypothesis statement and treatment, with a clear Null and Alternative spelled out AND written out as a formula, and a good interpretation of the Z value you obtain in terms of ability or inability to reject the Null Hypothesis. Here is the forumla\n",
    "\n",
    "$Z = \\frac{\\mu_{pop} - \\mu_{sample}}{\\sigma / \\sqrt{N}}$\n",
    "\n",
    "This is also in the slides attached (in a more readable format).\n",
    "\n",
    "The chapter of Statistics In a Nutshell that covers these topics is called Inferential statistics. It is chapter 3 in the hard copies of the book in the CUSP library, but it was moved to chapter 7 in the online book version which is in the link. Same content more or less.\n",
    "\n",
    "GRADING:\n",
    "\n",
    "Your notebook must display\n",
    "\n",
    "the complete formulation of the hypothesis (Null and Alternative) to be tested in words and formula\n",
    "the download of the data (which is in https://github.com/fedhere/PUI2017_fb55/blob/master/Lab3_fb55/times.txt, but you must get the raw data!)\n",
    "the calculation of the z statistics (with the given formula and the data processed from the data file)\n",
    "\n",
    "the comparison of the statistis with the significance threshold and the conclusions about the Null Hypothesis"
   ]
  },
  {
   "cell_type": "code",
   "execution_count": null,
   "metadata": {
    "collapsed": true
   },
   "outputs": [],
   "source": []
  }
 ],
 "metadata": {
  "kernelspec": {
   "display_name": "Python 3",
   "language": "python",
   "name": "python3"
  },
  "language_info": {
   "codemirror_mode": {
    "name": "ipython",
    "version": 3
   },
   "file_extension": ".py",
   "mimetype": "text/x-python",
   "name": "python",
   "nbconvert_exporter": "python",
   "pygments_lexer": "ipython3",
   "version": "3.6.1"
  }
 },
 "nbformat": 4,
 "nbformat_minor": 2
}
