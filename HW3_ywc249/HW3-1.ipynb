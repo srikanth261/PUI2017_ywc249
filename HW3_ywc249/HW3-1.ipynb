{
 "cells": [
  {
   "cell_type": "markdown",
   "metadata": {},
   "source": [
    "### Write an ipython notebook that demonstrates visually in a data-driven way the Central Limit Theorem.\n",
    "\n",
    "GENERATE 100 samples of different sizes N (N>10 & N<2000) from each of 5 different distributions (500 samples in total), all with the same population mean\n",
    "\n",
    "Include a Normal, a Poisson, a Binomial, a Chi-Squared distribution, and 1 more of your choice.\n",
    "\n",
    "For each sample plot the sample mean (dependent var.) against the sample size N (independent var.) (if you want you can do it with the sample standard deviation as well).\n",
    "\n",
    "Describe the behavior you see in the plots in terms of the law of large numbers.\n",
    "\n",
    "PLOT the distributions of all sample means (together for all distributions). Mandatory: as a histogram. Optional: in any other way you think is convincing\n",
    "\n",
    "### Extra Credit: FIT a gaussian to the distribution of means\n",
    "\n",
    "### Notice\n",
    "generate the distributions, correctly generated for each of the 5 ditributions, all with same mean.\n",
    "\n",
    "display all plots: a scatter plot per distribution and a histogram of all distributions, usual rules for plotting applying: visible and readable axes, title, legend, caption.\n",
    "\n",
    "each plot must have a caption which describes the plot in terms of Central Limit Theorem"
   ]
  },
  {
   "cell_type": "code",
   "execution_count": null,
   "metadata": {
    "collapsed": true
   },
   "outputs": [],
   "source": []
  }
 ],
 "metadata": {
  "kernelspec": {
   "display_name": "Python 3",
   "language": "python",
   "name": "python3"
  },
  "language_info": {
   "codemirror_mode": {
    "name": "ipython",
    "version": 3
   },
   "file_extension": ".py",
   "mimetype": "text/x-python",
   "name": "python",
   "nbconvert_exporter": "python",
   "pygments_lexer": "ipython3",
   "version": "3.6.1"
  }
 },
 "nbformat": 4,
 "nbformat_minor": 2
}
