{
 "cells": [
  {
   "cell_type": "markdown",
   "metadata": {},
   "source": [
    "## data-driven inference based on CitiBike data"
   ]
  },
  {
   "cell_type": "markdown",
   "metadata": {},
   "source": [
    "Work on compute. Choose a citibikes dataset within the CUSP data facility (DF).\n",
    "https://datahub.cusp.nyu.edu/dataset\n",
    "\n",
    "1. Fire off a Jupyter notebook with Jupyter Hub --here for Mac and Linux and here for Windows-- and switch to the Kernel PUI2016_Python2 or PUI2016_Python3 from the Jupyter dropdown menu under Kernels -> Change Kernel.\n",
    "\n",
    "2. Write a Jupyter Notebook on compute. This will require you to use the JupyterHub (instructions here ). Write a notebook that:\n",
    "\n",
    "3. States the question you want to ask, and formulates the Null and Alternative hypothesis (remember the confidence level!)\n",
    "\n",
    "4. Use pandas to read in the CitiBike files, either from the DF, or locally, but you must be able to download them on the spot (so the TA can reproduce your work).\n",
    "\n",
    "5. Display the top few rows of the DF in your notebook. This table must be rendered.\n",
    "\n",
    "6. Display the reducted dataframe. This table must be rendered.\n",
    "\n",
    "7. Plot your data distributions.\n",
    "\n",
    "GRADING:\n",
    "\n",
    "Your notebook must display\n",
    "\n",
    "- the complete formulation of the hypothesis to be tested\n",
    "- the data tables for the unreducted datasets (first few columns)\n",
    "- the data tables for the reducted datasets (first few columns)\n",
    "- the plots for each dataframe, with usual rules for plotting applying: visible and readable axes, title, legend, caption."
   ]
  },
  {
   "cell_type": "code",
   "execution_count": null,
   "metadata": {
    "collapsed": true
   },
   "outputs": [],
   "source": []
  }
 ],
 "metadata": {
  "kernelspec": {
   "display_name": "Python 3",
   "language": "python",
   "name": "python3"
  },
  "language_info": {
   "codemirror_mode": {
    "name": "ipython",
    "version": 3
   },
   "file_extension": ".py",
   "mimetype": "text/x-python",
   "name": "python",
   "nbconvert_exporter": "python",
   "pygments_lexer": "ipython3",
   "version": "3.6.1"
  }
 },
 "nbformat": 4,
 "nbformat_minor": 2
}
