{
 "cells": [
  {
   "cell_type": "markdown",
   "metadata": {
    "collapsed": true,
    "run_control": {
     "frozen": false,
     "read_only": false
    }
   },
   "source": [
    "# PUI Fall 2017 HW 4-4\n",
    "## Yuwen Chang (ywc249)\n",
    "    test if the distribution of \n",
    "    \n",
    "    1) trip duration of bikers that ride during the day vs night, and\n",
    "    \n",
    "    2) age of bikers for trips originating in Manhattan and in Brooklyn\n",
    "    \n",
    "    are different, with 3 tests:\n",
    "    \n",
    "    1) KS,\n",
    "    \n",
    "    2) Pearson's, and\n",
    "    \n",
    "    3) Spearman's. "
   ]
  },
  {
   "cell_type": "code",
   "execution_count": 1,
   "metadata": {
    "ExecuteTime": {
     "end_time": "2017-10-05T16:48:06.390950",
     "start_time": "2017-10-05T16:48:04.815178"
    },
    "run_control": {
     "frozen": false,
     "read_only": false
    },
    "scrolled": true
   },
   "outputs": [
    {
     "name": "stdout",
     "output_type": "stream",
     "text": [
      "Populating the interactive namespace from numpy and matplotlib\n"
     ]
    }
   ],
   "source": [
    "# imports and setups\n",
    "import numpy as np\n",
    "import pandas as pd\n",
    "import pylab as pl\n",
    "import scipy.stats as st\n",
    "import os\n",
    "%pylab inline\n",
    "\n",
    "# imports downloader\n",
    "from getCitiBikeCSV import getCitiBikeCSV"
   ]
  },
  {
   "cell_type": "markdown",
   "metadata": {
    "run_control": {
     "frozen": false,
     "read_only": false
    }
   },
   "source": [
    "## Read in data\n",
    "\n",
    "### Data used: Autumn 2015 (Sep., Oct., Nov.)"
   ]
  },
  {
   "cell_type": "code",
   "execution_count": 2,
   "metadata": {
    "ExecuteTime": {
     "end_time": "2017-10-05T16:48:11.528975",
     "start_time": "2017-10-05T16:48:10.267002"
    },
    "run_control": {
     "frozen": false,
     "read_only": false
    }
   },
   "outputs": [],
   "source": [
    "# Read data\n",
    "df = pd.read_csv(os.getenv(\"PUIDATA\") + \"/\" + '201509' + '-citibike-tripdata.csv')\n",
    "df2 = pd.read_csv(os.getenv(\"PUIDATA\") + \"/\" + '201510' + '-citibike-tripdata.csv')\n",
    "df3 = pd.read_csv(os.getenv(\"PUIDATA\") + \"/\" + '201511' + '-citibike-tripdata.csv')"
   ]
  },
  {
   "cell_type": "code",
   "execution_count": 3,
   "metadata": {},
   "outputs": [
    {
     "data": {
      "text/html": [
       "<div>\n",
       "<style>\n",
       "    .dataframe thead tr:only-child th {\n",
       "        text-align: right;\n",
       "    }\n",
       "\n",
       "    .dataframe thead th {\n",
       "        text-align: left;\n",
       "    }\n",
       "\n",
       "    .dataframe tbody tr th {\n",
       "        vertical-align: top;\n",
       "    }\n",
       "</style>\n",
       "<table border=\"1\" class=\"dataframe\">\n",
       "  <thead>\n",
       "    <tr style=\"text-align: right;\">\n",
       "      <th></th>\n",
       "      <th>tripduration</th>\n",
       "      <th>starttime</th>\n",
       "      <th>stoptime</th>\n",
       "      <th>start station id</th>\n",
       "      <th>start station name</th>\n",
       "      <th>start station latitude</th>\n",
       "      <th>start station longitude</th>\n",
       "      <th>end station id</th>\n",
       "      <th>end station name</th>\n",
       "      <th>end station latitude</th>\n",
       "      <th>end station longitude</th>\n",
       "      <th>bikeid</th>\n",
       "      <th>usertype</th>\n",
       "      <th>birth year</th>\n",
       "      <th>gender</th>\n",
       "      <th>date</th>\n",
       "    </tr>\n",
       "  </thead>\n",
       "  <tbody>\n",
       "    <tr>\n",
       "      <th>0</th>\n",
       "      <td>288</td>\n",
       "      <td>9/1/2015 00:00:00</td>\n",
       "      <td>9/1/2015 00:04:48</td>\n",
       "      <td>263</td>\n",
       "      <td>Elizabeth St &amp; Hester St</td>\n",
       "      <td>40.717290</td>\n",
       "      <td>-73.996375</td>\n",
       "      <td>307</td>\n",
       "      <td>Canal St &amp; Rutgers St</td>\n",
       "      <td>40.714275</td>\n",
       "      <td>-73.989900</td>\n",
       "      <td>15479</td>\n",
       "      <td>Subscriber</td>\n",
       "      <td>1989.0</td>\n",
       "      <td>1</td>\n",
       "      <td>2015-09-01 00:00:00</td>\n",
       "    </tr>\n",
       "    <tr>\n",
       "      <th>1</th>\n",
       "      <td>165</td>\n",
       "      <td>9/1/2015 00:00:00</td>\n",
       "      <td>9/1/2015 00:02:45</td>\n",
       "      <td>495</td>\n",
       "      <td>W 47 St &amp; 10 Ave</td>\n",
       "      <td>40.762699</td>\n",
       "      <td>-73.993012</td>\n",
       "      <td>449</td>\n",
       "      <td>W 52 St &amp; 9 Ave</td>\n",
       "      <td>40.764618</td>\n",
       "      <td>-73.987895</td>\n",
       "      <td>23899</td>\n",
       "      <td>Subscriber</td>\n",
       "      <td>1987.0</td>\n",
       "      <td>1</td>\n",
       "      <td>2015-09-01 00:00:00</td>\n",
       "    </tr>\n",
       "    <tr>\n",
       "      <th>2</th>\n",
       "      <td>367</td>\n",
       "      <td>9/1/2015 00:00:01</td>\n",
       "      <td>9/1/2015 00:06:08</td>\n",
       "      <td>3119</td>\n",
       "      <td>Vernon Blvd &amp; 50 Ave</td>\n",
       "      <td>40.742327</td>\n",
       "      <td>-73.954117</td>\n",
       "      <td>3118</td>\n",
       "      <td>McGuinness Blvd &amp; Eagle St</td>\n",
       "      <td>40.735550</td>\n",
       "      <td>-73.952840</td>\n",
       "      <td>23921</td>\n",
       "      <td>Customer</td>\n",
       "      <td>NaN</td>\n",
       "      <td>0</td>\n",
       "      <td>2015-09-01 00:00:01</td>\n",
       "    </tr>\n",
       "    <tr>\n",
       "      <th>3</th>\n",
       "      <td>926</td>\n",
       "      <td>9/1/2015 00:00:07</td>\n",
       "      <td>9/1/2015 00:15:34</td>\n",
       "      <td>536</td>\n",
       "      <td>1 Ave &amp; E 30 St</td>\n",
       "      <td>40.741444</td>\n",
       "      <td>-73.975361</td>\n",
       "      <td>340</td>\n",
       "      <td>Madison St &amp; Clinton St</td>\n",
       "      <td>40.712690</td>\n",
       "      <td>-73.987763</td>\n",
       "      <td>23256</td>\n",
       "      <td>Subscriber</td>\n",
       "      <td>1992.0</td>\n",
       "      <td>1</td>\n",
       "      <td>2015-09-01 00:00:07</td>\n",
       "    </tr>\n",
       "    <tr>\n",
       "      <th>4</th>\n",
       "      <td>658</td>\n",
       "      <td>9/1/2015 00:00:09</td>\n",
       "      <td>9/1/2015 00:11:07</td>\n",
       "      <td>347</td>\n",
       "      <td>Greenwich St &amp; W Houston St</td>\n",
       "      <td>40.728846</td>\n",
       "      <td>-74.008591</td>\n",
       "      <td>483</td>\n",
       "      <td>E 12 St &amp; 3 Ave</td>\n",
       "      <td>40.732233</td>\n",
       "      <td>-73.988900</td>\n",
       "      <td>17289</td>\n",
       "      <td>Subscriber</td>\n",
       "      <td>1976.0</td>\n",
       "      <td>1</td>\n",
       "      <td>2015-09-01 00:00:09</td>\n",
       "    </tr>\n",
       "  </tbody>\n",
       "</table>\n",
       "</div>"
      ],
      "text/plain": [
       "   tripduration          starttime           stoptime  start station id  \\\n",
       "0           288  9/1/2015 00:00:00  9/1/2015 00:04:48               263   \n",
       "1           165  9/1/2015 00:00:00  9/1/2015 00:02:45               495   \n",
       "2           367  9/1/2015 00:00:01  9/1/2015 00:06:08              3119   \n",
       "3           926  9/1/2015 00:00:07  9/1/2015 00:15:34               536   \n",
       "4           658  9/1/2015 00:00:09  9/1/2015 00:11:07               347   \n",
       "\n",
       "            start station name  start station latitude  \\\n",
       "0     Elizabeth St & Hester St               40.717290   \n",
       "1             W 47 St & 10 Ave               40.762699   \n",
       "2         Vernon Blvd & 50 Ave               40.742327   \n",
       "3              1 Ave & E 30 St               40.741444   \n",
       "4  Greenwich St & W Houston St               40.728846   \n",
       "\n",
       "   start station longitude  end station id            end station name  \\\n",
       "0               -73.996375             307       Canal St & Rutgers St   \n",
       "1               -73.993012             449             W 52 St & 9 Ave   \n",
       "2               -73.954117            3118  McGuinness Blvd & Eagle St   \n",
       "3               -73.975361             340     Madison St & Clinton St   \n",
       "4               -74.008591             483             E 12 St & 3 Ave   \n",
       "\n",
       "   end station latitude  end station longitude  bikeid    usertype  \\\n",
       "0             40.714275             -73.989900   15479  Subscriber   \n",
       "1             40.764618             -73.987895   23899  Subscriber   \n",
       "2             40.735550             -73.952840   23921    Customer   \n",
       "3             40.712690             -73.987763   23256  Subscriber   \n",
       "4             40.732233             -73.988900   17289  Subscriber   \n",
       "\n",
       "   birth year  gender                date  \n",
       "0      1989.0       1 2015-09-01 00:00:00  \n",
       "1      1987.0       1 2015-09-01 00:00:00  \n",
       "2         NaN       0 2015-09-01 00:00:01  \n",
       "3      1992.0       1 2015-09-01 00:00:07  \n",
       "4      1976.0       1 2015-09-01 00:00:09  "
      ]
     },
     "execution_count": 3,
     "metadata": {},
     "output_type": "execute_result"
    }
   ],
   "source": [
    "# This step is taking much time\n",
    "\n",
    "# Append all data to a single dataframe\n",
    "#df = pd.concat([dfa, dfb, dfc])\n",
    "#df['date'] = pd.to_datetime(df['starttime'])\n",
    "\n",
    "# With append method\n",
    "df.append(df2, ignore_index=True)\n",
    "df.append(df3, ignore_index=True)\n",
    "df['date'] = pd.to_datetime(df['starttime'])\n",
    "df.head()"
   ]
  },
  {
   "cell_type": "code",
   "execution_count": 4,
   "metadata": {
    "run_control": {
     "frozen": false,
     "read_only": false
    }
   },
   "outputs": [
    {
     "data": {
      "text/plain": [
       "Index(['tripduration', 'starttime', 'stoptime', 'start station id',\n",
       "       'start station name', 'start station latitude',\n",
       "       'start station longitude', 'end station id', 'end station name',\n",
       "       'end station latitude', 'end station longitude', 'bikeid', 'usertype',\n",
       "       'birth year', 'gender', 'date'],\n",
       "      dtype='object')"
      ]
     },
     "execution_count": 4,
     "metadata": {},
     "output_type": "execute_result"
    }
   ],
   "source": [
    "df.columns"
   ]
  },
  {
   "cell_type": "markdown",
   "metadata": {
    "run_control": {
     "frozen": false,
     "read_only": false
    }
   },
   "source": [
    "# Test 1: trip duration of bikers that ride during the day vs night\n",
    "## Split by category\n",
    "\n",
    "### I am splitting data by time (6am - 6pm; 6pm - 6am) and looking at the duration of riders:\n",
    "### $H_0$: there is no statistical difference in the duration distribution of daytime and nighttime riders\n",
    "### $\\alpha = 0.05$"
   ]
  },
  {
   "cell_type": "code",
   "execution_count": 5,
   "metadata": {
    "ExecuteTime": {
     "end_time": "2017-10-05T16:51:52.357332",
     "start_time": "2017-10-05T16:51:52.017199"
    },
    "run_control": {
     "frozen": false,
     "read_only": false
    }
   },
   "outputs": [
    {
     "data": {
      "text/html": [
       "<div>\n",
       "<style>\n",
       "    .dataframe thead tr:only-child th {\n",
       "        text-align: right;\n",
       "    }\n",
       "\n",
       "    .dataframe thead th {\n",
       "        text-align: left;\n",
       "    }\n",
       "\n",
       "    .dataframe tbody tr th {\n",
       "        vertical-align: top;\n",
       "    }\n",
       "</style>\n",
       "<table border=\"1\" class=\"dataframe\">\n",
       "  <thead>\n",
       "    <tr style=\"text-align: right;\">\n",
       "      <th></th>\n",
       "      <th>tripduration</th>\n",
       "      <th>starttime</th>\n",
       "      <th>stoptime</th>\n",
       "      <th>start station id</th>\n",
       "      <th>start station name</th>\n",
       "      <th>start station latitude</th>\n",
       "      <th>start station longitude</th>\n",
       "      <th>end station id</th>\n",
       "      <th>end station name</th>\n",
       "      <th>end station latitude</th>\n",
       "      <th>end station longitude</th>\n",
       "      <th>bikeid</th>\n",
       "      <th>usertype</th>\n",
       "      <th>birth year</th>\n",
       "      <th>gender</th>\n",
       "      <th>date</th>\n",
       "      <th>tDay</th>\n",
       "      <th>tNight</th>\n",
       "    </tr>\n",
       "  </thead>\n",
       "  <tbody>\n",
       "    <tr>\n",
       "      <th>0</th>\n",
       "      <td>288</td>\n",
       "      <td>9/1/2015 00:00:00</td>\n",
       "      <td>9/1/2015 00:04:48</td>\n",
       "      <td>263</td>\n",
       "      <td>Elizabeth St &amp; Hester St</td>\n",
       "      <td>40.717290</td>\n",
       "      <td>-73.996375</td>\n",
       "      <td>307</td>\n",
       "      <td>Canal St &amp; Rutgers St</td>\n",
       "      <td>40.714275</td>\n",
       "      <td>-73.989900</td>\n",
       "      <td>15479</td>\n",
       "      <td>Subscriber</td>\n",
       "      <td>1989.0</td>\n",
       "      <td>1</td>\n",
       "      <td>2015-09-01 00:00:00</td>\n",
       "      <td>NaN</td>\n",
       "      <td>288.0</td>\n",
       "    </tr>\n",
       "    <tr>\n",
       "      <th>1</th>\n",
       "      <td>165</td>\n",
       "      <td>9/1/2015 00:00:00</td>\n",
       "      <td>9/1/2015 00:02:45</td>\n",
       "      <td>495</td>\n",
       "      <td>W 47 St &amp; 10 Ave</td>\n",
       "      <td>40.762699</td>\n",
       "      <td>-73.993012</td>\n",
       "      <td>449</td>\n",
       "      <td>W 52 St &amp; 9 Ave</td>\n",
       "      <td>40.764618</td>\n",
       "      <td>-73.987895</td>\n",
       "      <td>23899</td>\n",
       "      <td>Subscriber</td>\n",
       "      <td>1987.0</td>\n",
       "      <td>1</td>\n",
       "      <td>2015-09-01 00:00:00</td>\n",
       "      <td>NaN</td>\n",
       "      <td>165.0</td>\n",
       "    </tr>\n",
       "    <tr>\n",
       "      <th>2</th>\n",
       "      <td>367</td>\n",
       "      <td>9/1/2015 00:00:01</td>\n",
       "      <td>9/1/2015 00:06:08</td>\n",
       "      <td>3119</td>\n",
       "      <td>Vernon Blvd &amp; 50 Ave</td>\n",
       "      <td>40.742327</td>\n",
       "      <td>-73.954117</td>\n",
       "      <td>3118</td>\n",
       "      <td>McGuinness Blvd &amp; Eagle St</td>\n",
       "      <td>40.735550</td>\n",
       "      <td>-73.952840</td>\n",
       "      <td>23921</td>\n",
       "      <td>Customer</td>\n",
       "      <td>NaN</td>\n",
       "      <td>0</td>\n",
       "      <td>2015-09-01 00:00:01</td>\n",
       "      <td>NaN</td>\n",
       "      <td>NaN</td>\n",
       "    </tr>\n",
       "    <tr>\n",
       "      <th>3</th>\n",
       "      <td>926</td>\n",
       "      <td>9/1/2015 00:00:07</td>\n",
       "      <td>9/1/2015 00:15:34</td>\n",
       "      <td>536</td>\n",
       "      <td>1 Ave &amp; E 30 St</td>\n",
       "      <td>40.741444</td>\n",
       "      <td>-73.975361</td>\n",
       "      <td>340</td>\n",
       "      <td>Madison St &amp; Clinton St</td>\n",
       "      <td>40.712690</td>\n",
       "      <td>-73.987763</td>\n",
       "      <td>23256</td>\n",
       "      <td>Subscriber</td>\n",
       "      <td>1992.0</td>\n",
       "      <td>1</td>\n",
       "      <td>2015-09-01 00:00:07</td>\n",
       "      <td>NaN</td>\n",
       "      <td>926.0</td>\n",
       "    </tr>\n",
       "    <tr>\n",
       "      <th>4</th>\n",
       "      <td>658</td>\n",
       "      <td>9/1/2015 00:00:09</td>\n",
       "      <td>9/1/2015 00:11:07</td>\n",
       "      <td>347</td>\n",
       "      <td>Greenwich St &amp; W Houston St</td>\n",
       "      <td>40.728846</td>\n",
       "      <td>-74.008591</td>\n",
       "      <td>483</td>\n",
       "      <td>E 12 St &amp; 3 Ave</td>\n",
       "      <td>40.732233</td>\n",
       "      <td>-73.988900</td>\n",
       "      <td>17289</td>\n",
       "      <td>Subscriber</td>\n",
       "      <td>1976.0</td>\n",
       "      <td>1</td>\n",
       "      <td>2015-09-01 00:00:09</td>\n",
       "      <td>NaN</td>\n",
       "      <td>658.0</td>\n",
       "    </tr>\n",
       "  </tbody>\n",
       "</table>\n",
       "</div>"
      ],
      "text/plain": [
       "   tripduration          starttime           stoptime  start station id  \\\n",
       "0           288  9/1/2015 00:00:00  9/1/2015 00:04:48               263   \n",
       "1           165  9/1/2015 00:00:00  9/1/2015 00:02:45               495   \n",
       "2           367  9/1/2015 00:00:01  9/1/2015 00:06:08              3119   \n",
       "3           926  9/1/2015 00:00:07  9/1/2015 00:15:34               536   \n",
       "4           658  9/1/2015 00:00:09  9/1/2015 00:11:07               347   \n",
       "\n",
       "            start station name  start station latitude  \\\n",
       "0     Elizabeth St & Hester St               40.717290   \n",
       "1             W 47 St & 10 Ave               40.762699   \n",
       "2         Vernon Blvd & 50 Ave               40.742327   \n",
       "3              1 Ave & E 30 St               40.741444   \n",
       "4  Greenwich St & W Houston St               40.728846   \n",
       "\n",
       "   start station longitude  end station id            end station name  \\\n",
       "0               -73.996375             307       Canal St & Rutgers St   \n",
       "1               -73.993012             449             W 52 St & 9 Ave   \n",
       "2               -73.954117            3118  McGuinness Blvd & Eagle St   \n",
       "3               -73.975361             340     Madison St & Clinton St   \n",
       "4               -74.008591             483             E 12 St & 3 Ave   \n",
       "\n",
       "   end station latitude  end station longitude  bikeid    usertype  \\\n",
       "0             40.714275             -73.989900   15479  Subscriber   \n",
       "1             40.764618             -73.987895   23899  Subscriber   \n",
       "2             40.735550             -73.952840   23921    Customer   \n",
       "3             40.712690             -73.987763   23256  Subscriber   \n",
       "4             40.732233             -73.988900   17289  Subscriber   \n",
       "\n",
       "   birth year  gender                date  tDay  tNight  \n",
       "0      1989.0       1 2015-09-01 00:00:00   NaN   288.0  \n",
       "1      1987.0       1 2015-09-01 00:00:00   NaN   165.0  \n",
       "2         NaN       0 2015-09-01 00:00:01   NaN     NaN  \n",
       "3      1992.0       1 2015-09-01 00:00:07   NaN   926.0  \n",
       "4      1976.0       1 2015-09-01 00:00:09   NaN   658.0  "
      ]
     },
     "execution_count": 5,
     "metadata": {},
     "output_type": "execute_result"
    }
   ],
   "source": [
    "# Split by day and night according to my definition\n",
    "df['tDay'] = df['tripduration'] \\\n",
    "            [(df['usertype'] == 'Subscriber') & (df['date'].dt.hour >= 6) & (df['date'].dt.hour < 18)]\n",
    "\n",
    "df['tNight'] = df['tripduration'] \\\n",
    "            [(df['usertype'] == 'Subscriber') & (df['date'].dt.hour < 6) | (df['date'].dt.hour >= 18)]\n",
    "\n",
    "df.head()"
   ]
  },
  {
   "cell_type": "code",
   "execution_count": 6,
   "metadata": {},
   "outputs": [
    {
     "data": {
      "text/html": [
       "<div>\n",
       "<style>\n",
       "    .dataframe thead tr:only-child th {\n",
       "        text-align: right;\n",
       "    }\n",
       "\n",
       "    .dataframe thead th {\n",
       "        text-align: left;\n",
       "    }\n",
       "\n",
       "    .dataframe tbody tr th {\n",
       "        vertical-align: top;\n",
       "    }\n",
       "</style>\n",
       "<table border=\"1\" class=\"dataframe\">\n",
       "  <thead>\n",
       "    <tr style=\"text-align: right;\">\n",
       "      <th></th>\n",
       "      <th>tDay</th>\n",
       "      <th>tNight</th>\n",
       "    </tr>\n",
       "  </thead>\n",
       "  <tbody>\n",
       "    <tr>\n",
       "      <th>0</th>\n",
       "      <td>NaN</td>\n",
       "      <td>288.0</td>\n",
       "    </tr>\n",
       "    <tr>\n",
       "      <th>1</th>\n",
       "      <td>NaN</td>\n",
       "      <td>165.0</td>\n",
       "    </tr>\n",
       "    <tr>\n",
       "      <th>2</th>\n",
       "      <td>NaN</td>\n",
       "      <td>NaN</td>\n",
       "    </tr>\n",
       "    <tr>\n",
       "      <th>3</th>\n",
       "      <td>NaN</td>\n",
       "      <td>926.0</td>\n",
       "    </tr>\n",
       "    <tr>\n",
       "      <th>4</th>\n",
       "      <td>NaN</td>\n",
       "      <td>658.0</td>\n",
       "    </tr>\n",
       "  </tbody>\n",
       "</table>\n",
       "</div>"
      ],
      "text/plain": [
       "   tDay  tNight\n",
       "0   NaN   288.0\n",
       "1   NaN   165.0\n",
       "2   NaN     NaN\n",
       "3   NaN   926.0\n",
       "4   NaN   658.0"
      ]
     },
     "execution_count": 6,
     "metadata": {},
     "output_type": "execute_result"
    }
   ],
   "source": [
    "#drop unnecessary columns\n",
    "df1 = df.drop(['tripduration', 'starttime', 'stoptime', 'start station id',\n",
    "               'start station name', 'start station latitude',\n",
    "               'start station longitude', 'end station id', 'end station name',\n",
    "               'end station latitude', 'end station longitude', 'bikeid', 'usertype',\n",
    "               'birth year', 'gender', 'date'], axis=1)\n",
    "df1.head()"
   ]
  },
  {
   "cell_type": "code",
   "execution_count": 7,
   "metadata": {
    "ExecuteTime": {
     "end_time": "2017-10-05T16:55:03.392271",
     "start_time": "2017-10-05T16:55:02.902521"
    },
    "run_control": {
     "frozen": false,
     "read_only": false
    }
   },
   "outputs": [
    {
     "data": {
      "text/html": [
       "<div>\n",
       "<style>\n",
       "    .dataframe thead tr:only-child th {\n",
       "        text-align: right;\n",
       "    }\n",
       "\n",
       "    .dataframe thead th {\n",
       "        text-align: left;\n",
       "    }\n",
       "\n",
       "    .dataframe tbody tr th {\n",
       "        vertical-align: top;\n",
       "    }\n",
       "</style>\n",
       "<table border=\"1\" class=\"dataframe\">\n",
       "  <thead>\n",
       "    <tr style=\"text-align: right;\">\n",
       "      <th></th>\n",
       "      <th>tDay</th>\n",
       "      <th>tNight</th>\n",
       "    </tr>\n",
       "  </thead>\n",
       "  <tbody>\n",
       "    <tr>\n",
       "      <th>count</th>\n",
       "      <td>7.425670e+05</td>\n",
       "      <td>3.853050e+05</td>\n",
       "    </tr>\n",
       "    <tr>\n",
       "      <th>mean</th>\n",
       "      <td>8.620074e+02</td>\n",
       "      <td>1.007507e+03</td>\n",
       "    </tr>\n",
       "    <tr>\n",
       "      <th>std</th>\n",
       "      <td>4.113963e+03</td>\n",
       "      <td>5.550055e+03</td>\n",
       "    </tr>\n",
       "    <tr>\n",
       "      <th>min</th>\n",
       "      <td>6.000000e+01</td>\n",
       "      <td>6.000000e+01</td>\n",
       "    </tr>\n",
       "    <tr>\n",
       "      <th>25%</th>\n",
       "      <td>3.790000e+02</td>\n",
       "      <td>4.020000e+02</td>\n",
       "    </tr>\n",
       "    <tr>\n",
       "      <th>50%</th>\n",
       "      <td>5.980000e+02</td>\n",
       "      <td>6.590000e+02</td>\n",
       "    </tr>\n",
       "    <tr>\n",
       "      <th>75%</th>\n",
       "      <td>9.670000e+02</td>\n",
       "      <td>1.088000e+03</td>\n",
       "    </tr>\n",
       "    <tr>\n",
       "      <th>max</th>\n",
       "      <td>1.202099e+06</td>\n",
       "      <td>1.355067e+06</td>\n",
       "    </tr>\n",
       "  </tbody>\n",
       "</table>\n",
       "</div>"
      ],
      "text/plain": [
       "               tDay        tNight\n",
       "count  7.425670e+05  3.853050e+05\n",
       "mean   8.620074e+02  1.007507e+03\n",
       "std    4.113963e+03  5.550055e+03\n",
       "min    6.000000e+01  6.000000e+01\n",
       "25%    3.790000e+02  4.020000e+02\n",
       "50%    5.980000e+02  6.590000e+02\n",
       "75%    9.670000e+02  1.088000e+03\n",
       "max    1.202099e+06  1.355067e+06"
      ]
     },
     "execution_count": 7,
     "metadata": {},
     "output_type": "execute_result"
    }
   ],
   "source": [
    "df1.describe()"
   ]
  },
  {
   "cell_type": "code",
   "execution_count": 8,
   "metadata": {
    "run_control": {
     "frozen": false,
     "read_only": false
    }
   },
   "outputs": [
    {
     "name": "stdout",
     "output_type": "stream",
     "text": [
      "NOTICE: 12.55% of the data have no trip duration in the df now\n"
     ]
    }
   ],
   "source": [
    "# Examine NaN values before dropping them\n",
    "# remember: we have excluded non-subscribers, therefore, # of NaNs may be large\n",
    "daynull = df1.tDay.isnull()\n",
    "nightnull = df1.tNight.isnull()\n",
    "pctnull = len(df1[daynull & nightnull]) / len(df1) * 100\n",
    "print('NOTICE: %.2f%% of the data have no trip duration in the df now'%(pctnull))"
   ]
  },
  {
   "cell_type": "code",
   "execution_count": 9,
   "metadata": {
    "ExecuteTime": {
     "end_time": "2017-10-05T16:55:05.649685",
     "start_time": "2017-10-05T16:55:05.635796"
    },
    "run_control": {
     "frozen": false,
     "read_only": false
    }
   },
   "outputs": [
    {
     "data": {
      "text/html": [
       "<div>\n",
       "<style>\n",
       "    .dataframe thead tr:only-child th {\n",
       "        text-align: right;\n",
       "    }\n",
       "\n",
       "    .dataframe thead th {\n",
       "        text-align: left;\n",
       "    }\n",
       "\n",
       "    .dataframe tbody tr th {\n",
       "        vertical-align: top;\n",
       "    }\n",
       "</style>\n",
       "<table border=\"1\" class=\"dataframe\">\n",
       "  <thead>\n",
       "    <tr style=\"text-align: right;\">\n",
       "      <th></th>\n",
       "      <th>tDay</th>\n",
       "      <th>tNight</th>\n",
       "    </tr>\n",
       "  </thead>\n",
       "  <tbody>\n",
       "    <tr>\n",
       "      <th>0</th>\n",
       "      <td>NaN</td>\n",
       "      <td>288.0</td>\n",
       "    </tr>\n",
       "    <tr>\n",
       "      <th>1</th>\n",
       "      <td>NaN</td>\n",
       "      <td>165.0</td>\n",
       "    </tr>\n",
       "    <tr>\n",
       "      <th>3</th>\n",
       "      <td>NaN</td>\n",
       "      <td>926.0</td>\n",
       "    </tr>\n",
       "    <tr>\n",
       "      <th>4</th>\n",
       "      <td>NaN</td>\n",
       "      <td>658.0</td>\n",
       "    </tr>\n",
       "    <tr>\n",
       "      <th>5</th>\n",
       "      <td>NaN</td>\n",
       "      <td>392.0</td>\n",
       "    </tr>\n",
       "  </tbody>\n",
       "</table>\n",
       "</div>"
      ],
      "text/plain": [
       "   tDay  tNight\n",
       "0   NaN   288.0\n",
       "1   NaN   165.0\n",
       "3   NaN   926.0\n",
       "4   NaN   658.0\n",
       "5   NaN   392.0"
      ]
     },
     "execution_count": 9,
     "metadata": {},
     "output_type": "execute_result"
    }
   ],
   "source": [
    "# dropping trip data without trip duration (NaN values for both day and night)\n",
    "df1.dropna(how='all', inplace=True)\n",
    "df1.head()"
   ]
  },
  {
   "cell_type": "markdown",
   "metadata": {
    "run_control": {
     "frozen": false,
     "read_only": false
    }
   },
   "source": [
    "## Plotting distributions"
   ]
  },
  {
   "cell_type": "code",
   "execution_count": 10,
   "metadata": {},
   "outputs": [],
   "source": [
    "# Examine the tail\n",
    "#longtrips = list(df[df.tDay > 14400]['tripduration'].values)\n",
    "#len(longtrips) / df.sum()\n",
    "#pl.hist(longtrips) #trips > 4 hours"
   ]
  },
  {
   "cell_type": "code",
   "execution_count": 11,
   "metadata": {
    "ExecuteTime": {
     "end_time": "2017-10-05T16:55:21.602238",
     "start_time": "2017-10-05T16:55:20.487384"
    },
    "run_control": {
     "frozen": false,
     "read_only": false
    }
   },
   "outputs": [
    {
     "data": {
      "text/plain": [
       "<matplotlib.text.Text at 0x10f287fd0>"
      ]
     },
     "execution_count": 11,
     "metadata": {},
     "output_type": "execute_result"
    },
    {
     "data": {
      "image/png": "[encoded data removed]",
      "text/plain": [
       "<matplotlib.figure.Figure at 0x10be39278>"
      ]
     },
     "metadata": {},
     "output_type": "display_data"
    },
    {
     "data": {
      "image/png": "[encoded data removed]",
      "text/plain": [
       "<matplotlib.figure.Figure at 0x10be39208>"
      ]
     },
     "metadata": {},
     "output_type": "display_data"
    }
   ],
   "source": [
    "# Plot probability distributions\n",
    "bins = np.arange(0, 3601, 180)\n",
    "\n",
    "axD = df1.tDay.groupby(pd.cut(df1.tDay, bins)).agg([count_nonzero]).plot(kind='bar', legend=False)\n",
    "axD.set_title(\"daytime riders\")\n",
    "axD.set_xlabel(\"Bins by seconds of trip duration\")\n",
    "axD.set_ylabel(\"Trip counts for Fall 2015\")\n",
    "\n",
    "axN = df1.tNight.groupby(pd.cut(df1.tNight, bins)).agg([count_nonzero]).plot(kind='bar', legend=False)\n",
    "axN.set_title(\"nighttime riders\")\n",
    "axN.set_xlabel(\"Bins by seconds of trip duration\")\n",
    "axN.set_ylabel(\"Trip counts for Fall 2015\")\n",
    "\n",
    "# Prof. FB: this is a VERY USEFUL syntax for you to knonw!"
   ]
  },
  {
   "cell_type": "markdown",
   "metadata": {
    "run_control": {
     "frozen": false,
     "read_only": false
    }
   },
   "source": [
    "### Figure 1: histogrammed distribution of riders' trip durations by daytime/nighttime\n",
    "The histograms are cut into 3-minute bins for trips under an hour. Due to the free time limit, most bike trips seem to end before 45 minutes. Also, two distributions both look something like a chi-square distribution."
   ]
  },
  {
   "cell_type": "code",
   "execution_count": 12,
   "metadata": {
    "run_control": {
     "frozen": false,
     "read_only": false
    },
    "scrolled": false
   },
   "outputs": [
    {
     "name": "stdout",
     "output_type": "stream",
     "text": [
      "              count_nonzero\n",
      "tDay                       \n",
      "(0, 180]           0.001659\n",
      "(180, 360]         0.021899\n",
      "(360, 540]         0.046776\n",
      "(540, 720]         0.056410\n",
      "(720, 900]         0.054150\n",
      "(900, 1080]        0.046942\n",
      "(1080, 1260]       0.036034\n",
      "(1260, 1440]       0.025923\n",
      "(1440, 1620]       0.017893\n",
      "(1620, 1800]       0.011415\n",
      "(1800, 1980]       0.007314\n",
      "(1980, 2160]       0.005245\n",
      "(2160, 2340]       0.003937\n",
      "(2340, 2520]       0.003135\n",
      "(2520, 2700]       0.002278\n",
      "(2700, 2880]       0.001695\n",
      "(2880, 3060]       0.001115\n",
      "(3060, 3240]       0.000682\n",
      "(3240, 3420]       0.000381\n",
      "(3420, 3600]       0.000000\n"
     ]
    },
    {
     "data": {
      "text/plain": [
       "<matplotlib.legend.Legend at 0x10fa0c9e8>"
      ]
     },
     "execution_count": 12,
     "metadata": {},
     "output_type": "execute_result"
    },
    {
     "data": {
      "image/png": "[encoded data removed]",
      "text/plain": [
       "<matplotlib.figure.Figure at 0x10f36e630>"
      ]
     },
     "metadata": {},
     "output_type": "display_data"
    }
   ],
   "source": [
    "# Plot cumulative distributions\n",
    "#print df.tS, df.tS.cumsum()\n",
    "\n",
    "csD = df1.tDay.groupby(pd.cut(df1.tDay, bins)).agg([count_nonzero]).cumsum()\n",
    "csN = df1.tNight.groupby(pd.cut(df1.tNight, bins)).agg([count_nonzero]).cumsum()\n",
    "\n",
    "print(np.abs(csD / csD.max() - csN / csN.max()))\n",
    "\n",
    "pl.plot(bins[:-1] + 5, csD / csD.max(), label = \"Day\")\n",
    "pl.plot(bins[:-1] + 5, csN / csN.max(), label = \"Night\")\n",
    "pl.plot(bins[:-1] + 5, np.sqrt(csD / csD.max() - csN / csN.max())**2, 'k-', label = \"Difference\")\n",
    "pl.xlabel(\"Trip Duration\")\n",
    "pl.ylabel(\"Normalized Cumulative Number\")\n",
    "pl.legend()"
   ]
  },
  {
   "cell_type": "markdown",
   "metadata": {
    "run_control": {
     "frozen": false,
     "read_only": false
    }
   },
   "source": [
    "### Figure 2: the cumulative distribution of CitiBike riders' trip durations by trip start time\n",
    "There seems to be only a slight difference between the two cumulative distributions. The biggest gap is somewhere around 5.5%."
   ]
  },
  {
   "cell_type": "markdown",
   "metadata": {
    "collapsed": true,
    "run_control": {
     "frozen": false,
     "read_only": false
    }
   },
   "source": [
    "## KS test\n",
    "\n",
    "http://docs.scipy.org/doc/scipy-0.15.1/reference/generated/scipy.stats.ks_2samp.html\n",
    "\n",
    "> This is a two-sided test for the null hypothesis that 2 independent samples are drawn from the same continuous distribution.\n",
    "\n",
    "> If the K-S statistic is small or the p-value is high, then we cannot reject the hypothesis that the distributions of the two samples are the same.\n",
    "\n",
    "> **Returns: KS statistic, two-tailed p-value**"
   ]
  },
  {
   "cell_type": "code",
   "execution_count": 13,
   "metadata": {
    "ExecuteTime": {
     "end_time": "2017-10-05T16:58:13.968035",
     "start_time": "2017-10-05T16:58:13.899033"
    },
    "run_control": {
     "frozen": false,
     "read_only": false
    }
   },
   "outputs": [
    {
     "name": "stdout",
     "output_type": "stream",
     "text": [
      "Ks_2sampResult(statistic=0.31699519094365319, pvalue=0.0)\n"
     ]
    }
   ],
   "source": [
    "# Conduct KS test\n",
    "ks = st.ks_2samp(df1.tDay, df1.tNight)\n",
    "print(ks)"
   ]
  },
  {
   "cell_type": "markdown",
   "metadata": {
    "ExecuteTime": {
     "end_time": "2017-10-05T16:58:24.751556",
     "start_time": "2017-10-05T16:58:24.747653"
    },
    "collapsed": true,
    "run_control": {
     "frozen": false,
     "read_only": false
    }
   },
   "source": [
    "## Discussion\n",
    "### Null Hypothesis: The trip duration distributions between daytime and nighttime are the same.\n",
    "### Significance Level: $\\alpha = 0.05$\n",
    "### Test Outputs: KS statistic = 0.317 and the p-value = 0.0\n",
    "### Result: We rejected the null hypothesis since the p-value is less than 0.05.\n",
    "That means, despite looking somewhat similar on the graph, the trip duration patterns in daytime and nighttime are actually not the same."
   ]
  },
  {
   "cell_type": "markdown",
   "metadata": {},
   "source": [
    "## Repeat KS test with a subset 200 times smaller"
   ]
  },
  {
   "cell_type": "code",
   "execution_count": 14,
   "metadata": {},
   "outputs": [
    {
     "data": {
      "text/html": [
       "<div>\n",
       "<style>\n",
       "    .dataframe thead tr:only-child th {\n",
       "        text-align: right;\n",
       "    }\n",
       "\n",
       "    .dataframe thead th {\n",
       "        text-align: left;\n",
       "    }\n",
       "\n",
       "    .dataframe tbody tr th {\n",
       "        vertical-align: top;\n",
       "    }\n",
       "</style>\n",
       "<table border=\"1\" class=\"dataframe\">\n",
       "  <thead>\n",
       "    <tr style=\"text-align: right;\">\n",
       "      <th></th>\n",
       "      <th>tDay</th>\n",
       "      <th>tNight</th>\n",
       "    </tr>\n",
       "  </thead>\n",
       "  <tbody>\n",
       "    <tr>\n",
       "      <th>count</th>\n",
       "      <td>3706.000000</td>\n",
       "      <td>1930.000000</td>\n",
       "    </tr>\n",
       "    <tr>\n",
       "      <th>mean</th>\n",
       "      <td>812.924717</td>\n",
       "      <td>1085.505181</td>\n",
       "    </tr>\n",
       "    <tr>\n",
       "      <th>std</th>\n",
       "      <td>1596.348482</td>\n",
       "      <td>4825.351063</td>\n",
       "    </tr>\n",
       "    <tr>\n",
       "      <th>min</th>\n",
       "      <td>60.000000</td>\n",
       "      <td>60.000000</td>\n",
       "    </tr>\n",
       "    <tr>\n",
       "      <th>25%</th>\n",
       "      <td>378.000000</td>\n",
       "      <td>413.250000</td>\n",
       "    </tr>\n",
       "    <tr>\n",
       "      <th>50%</th>\n",
       "      <td>596.000000</td>\n",
       "      <td>690.000000</td>\n",
       "    </tr>\n",
       "    <tr>\n",
       "      <th>75%</th>\n",
       "      <td>973.000000</td>\n",
       "      <td>1106.750000</td>\n",
       "    </tr>\n",
       "    <tr>\n",
       "      <th>max</th>\n",
       "      <td>70477.000000</td>\n",
       "      <td>175144.000000</td>\n",
       "    </tr>\n",
       "  </tbody>\n",
       "</table>\n",
       "</div>"
      ],
      "text/plain": [
       "               tDay         tNight\n",
       "count   3706.000000    1930.000000\n",
       "mean     812.924717    1085.505181\n",
       "std     1596.348482    4825.351063\n",
       "min       60.000000      60.000000\n",
       "25%      378.000000     413.250000\n",
       "50%      596.000000     690.000000\n",
       "75%      973.000000    1106.750000\n",
       "max    70477.000000  175144.000000"
      ]
     },
     "execution_count": 14,
     "metadata": {},
     "output_type": "execute_result"
    }
   ],
   "source": [
    "# Subset 1 observation per 200\n",
    "df2 = df1[df1.index % 200 == 0]\n",
    "df2.describe()"
   ]
  },
  {
   "cell_type": "code",
   "execution_count": 15,
   "metadata": {
    "ExecuteTime": {
     "end_time": "2017-10-05T16:58:13.968035",
     "start_time": "2017-10-05T16:58:13.899033"
    },
    "run_control": {
     "frozen": false,
     "read_only": false
    }
   },
   "outputs": [
    {
     "name": "stdout",
     "output_type": "stream",
     "text": [
      "Ks_2sampResult(statistic=0.31635911994322213, pvalue=1.5897239146847436e-246)\n"
     ]
    }
   ],
   "source": [
    "# Conduct second KS test with smaller size data\n",
    "ks2 = st.ks_2samp(df2.tDay, df2.tNight)\n",
    "print(ks2)"
   ]
  },
  {
   "cell_type": "markdown",
   "metadata": {
    "ExecuteTime": {
     "end_time": "2017-10-05T16:58:24.751556",
     "start_time": "2017-10-05T16:58:24.747653"
    },
    "collapsed": true,
    "run_control": {
     "frozen": false,
     "read_only": false
    }
   },
   "source": [
    "## Discussion\n",
    "### Null Hypothesis: The trip duration distributions between daytime and nighttime are the same.\n",
    "### Significance Level: $\\alpha = 0.05$\n",
    "### Test Outputs: KS statistic = 0.316 and the p-value = 0.0... (different, but still small)\n",
    "### Result: We rejected the null hypothesis since the p-value is less than 0.05.\n",
    "Even with smaller sample sizes, we still infer that the trip duration patterns in daytime and nighttime are actually not the same."
   ]
  },
  {
   "cell_type": "markdown",
   "metadata": {},
   "source": [
    "## Subsampling\n",
    "Downsize daytime trip data to the size of nighttime data in order to pair up for the correlation test."
   ]
  },
  {
   "cell_type": "code",
   "execution_count": 16,
   "metadata": {},
   "outputs": [
    {
     "data": {
      "text/html": [
       "<div>\n",
       "<style>\n",
       "    .dataframe thead tr:only-child th {\n",
       "        text-align: right;\n",
       "    }\n",
       "\n",
       "    .dataframe thead th {\n",
       "        text-align: left;\n",
       "    }\n",
       "\n",
       "    .dataframe tbody tr th {\n",
       "        vertical-align: top;\n",
       "    }\n",
       "</style>\n",
       "<table border=\"1\" class=\"dataframe\">\n",
       "  <thead>\n",
       "    <tr style=\"text-align: right;\">\n",
       "      <th></th>\n",
       "      <th>0</th>\n",
       "      <th>1</th>\n",
       "    </tr>\n",
       "  </thead>\n",
       "  <tbody>\n",
       "    <tr>\n",
       "      <th>0</th>\n",
       "      <td>2130.0</td>\n",
       "      <td>288.0</td>\n",
       "    </tr>\n",
       "    <tr>\n",
       "      <th>1</th>\n",
       "      <td>332.0</td>\n",
       "      <td>165.0</td>\n",
       "    </tr>\n",
       "    <tr>\n",
       "      <th>2</th>\n",
       "      <td>1819.0</td>\n",
       "      <td>926.0</td>\n",
       "    </tr>\n",
       "    <tr>\n",
       "      <th>3</th>\n",
       "      <td>430.0</td>\n",
       "      <td>658.0</td>\n",
       "    </tr>\n",
       "    <tr>\n",
       "      <th>4</th>\n",
       "      <td>464.0</td>\n",
       "      <td>392.0</td>\n",
       "    </tr>\n",
       "  </tbody>\n",
       "</table>\n",
       "</div>"
      ],
      "text/plain": [
       "        0      1\n",
       "0  2130.0  288.0\n",
       "1   332.0  165.0\n",
       "2  1819.0  926.0\n",
       "3   430.0  658.0\n",
       "4   464.0  392.0"
      ]
     },
     "execution_count": 16,
     "metadata": {},
     "output_type": "execute_result"
    }
   ],
   "source": [
    "# Do simple sampling without replacement (I don't want the same trip twice in my sample)\n",
    "# Remove null cells in the process\n",
    "np.random.seed(1000)\n",
    "tDay2 = np.random.choice(df1['tDay'].dropna(), size=df1['tNight'].count(), replace=False)\n",
    "\n",
    "df3 = pd.DataFrame(data=[tDay2, df1['tNight'].dropna()]).T\n",
    "df3.head()"
   ]
  },
  {
   "cell_type": "code",
   "execution_count": 17,
   "metadata": {
    "scrolled": false
   },
   "outputs": [
    {
     "data": {
      "text/html": [
       "<div>\n",
       "<style>\n",
       "    .dataframe thead tr:only-child th {\n",
       "        text-align: right;\n",
       "    }\n",
       "\n",
       "    .dataframe thead th {\n",
       "        text-align: left;\n",
       "    }\n",
       "\n",
       "    .dataframe tbody tr th {\n",
       "        vertical-align: top;\n",
       "    }\n",
       "</style>\n",
       "<table border=\"1\" class=\"dataframe\">\n",
       "  <thead>\n",
       "    <tr style=\"text-align: right;\">\n",
       "      <th></th>\n",
       "      <th>tDay</th>\n",
       "      <th>tNight</th>\n",
       "    </tr>\n",
       "  </thead>\n",
       "  <tbody>\n",
       "    <tr>\n",
       "      <th>count</th>\n",
       "      <td>3.853050e+05</td>\n",
       "      <td>3.853050e+05</td>\n",
       "    </tr>\n",
       "    <tr>\n",
       "      <th>mean</th>\n",
       "      <td>8.535102e+02</td>\n",
       "      <td>1.007507e+03</td>\n",
       "    </tr>\n",
       "    <tr>\n",
       "      <th>std</th>\n",
       "      <td>3.806890e+03</td>\n",
       "      <td>5.550055e+03</td>\n",
       "    </tr>\n",
       "    <tr>\n",
       "      <th>min</th>\n",
       "      <td>6.000000e+01</td>\n",
       "      <td>6.000000e+01</td>\n",
       "    </tr>\n",
       "    <tr>\n",
       "      <th>25%</th>\n",
       "      <td>3.790000e+02</td>\n",
       "      <td>4.020000e+02</td>\n",
       "    </tr>\n",
       "    <tr>\n",
       "      <th>50%</th>\n",
       "      <td>5.980000e+02</td>\n",
       "      <td>6.590000e+02</td>\n",
       "    </tr>\n",
       "    <tr>\n",
       "      <th>75%</th>\n",
       "      <td>9.660000e+02</td>\n",
       "      <td>1.088000e+03</td>\n",
       "    </tr>\n",
       "    <tr>\n",
       "      <th>max</th>\n",
       "      <td>1.147025e+06</td>\n",
       "      <td>1.355067e+06</td>\n",
       "    </tr>\n",
       "  </tbody>\n",
       "</table>\n",
       "</div>"
      ],
      "text/plain": [
       "               tDay        tNight\n",
       "count  3.853050e+05  3.853050e+05\n",
       "mean   8.535102e+02  1.007507e+03\n",
       "std    3.806890e+03  5.550055e+03\n",
       "min    6.000000e+01  6.000000e+01\n",
       "25%    3.790000e+02  4.020000e+02\n",
       "50%    5.980000e+02  6.590000e+02\n",
       "75%    9.660000e+02  1.088000e+03\n",
       "max    1.147025e+06  1.355067e+06"
      ]
     },
     "execution_count": 17,
     "metadata": {},
     "output_type": "execute_result"
    }
   ],
   "source": [
    "# Rename columns and make sure observation sizes are paired up\n",
    "df3.columns = ['tDay', 'tNight']\n",
    "df3.describe()"
   ]
  },
  {
   "cell_type": "code",
   "execution_count": 18,
   "metadata": {},
   "outputs": [
    {
     "data": {
      "text/html": [
       "<div>\n",
       "<style>\n",
       "    .dataframe thead tr:only-child th {\n",
       "        text-align: right;\n",
       "    }\n",
       "\n",
       "    .dataframe thead th {\n",
       "        text-align: left;\n",
       "    }\n",
       "\n",
       "    .dataframe tbody tr th {\n",
       "        vertical-align: top;\n",
       "    }\n",
       "</style>\n",
       "<table border=\"1\" class=\"dataframe\">\n",
       "  <thead>\n",
       "    <tr style=\"text-align: right;\">\n",
       "      <th></th>\n",
       "      <th>tDay</th>\n",
       "      <th>tNight</th>\n",
       "    </tr>\n",
       "  </thead>\n",
       "  <tbody>\n",
       "    <tr>\n",
       "      <th>0</th>\n",
       "      <td>60.0</td>\n",
       "      <td>60.0</td>\n",
       "    </tr>\n",
       "    <tr>\n",
       "      <th>1</th>\n",
       "      <td>60.0</td>\n",
       "      <td>60.0</td>\n",
       "    </tr>\n",
       "    <tr>\n",
       "      <th>2</th>\n",
       "      <td>60.0</td>\n",
       "      <td>60.0</td>\n",
       "    </tr>\n",
       "    <tr>\n",
       "      <th>3</th>\n",
       "      <td>60.0</td>\n",
       "      <td>60.0</td>\n",
       "    </tr>\n",
       "    <tr>\n",
       "      <th>4</th>\n",
       "      <td>60.0</td>\n",
       "      <td>60.0</td>\n",
       "    </tr>\n",
       "  </tbody>\n",
       "</table>\n",
       "</div>"
      ],
      "text/plain": [
       "   tDay  tNight\n",
       "0  60.0    60.0\n",
       "1  60.0    60.0\n",
       "2  60.0    60.0\n",
       "3  60.0    60.0\n",
       "4  60.0    60.0"
      ]
     },
     "execution_count": 18,
     "metadata": {},
     "output_type": "execute_result"
    }
   ],
   "source": [
    "# Sort ascendingly\n",
    "df3 = df3.apply(lambda x: x.sort_values().values)\n",
    "df3.head()"
   ]
  },
  {
   "cell_type": "markdown",
   "metadata": {
    "run_control": {
     "frozen": false,
     "read_only": false
    }
   },
   "source": [
    "## Pearson's test for correlation\n",
    "\n",
    "http://docs.scipy.org/doc/scipy/reference/generated/scipy.stats.pearsonr.html#scipy.stats.pearsonr\n",
    "\n",
    "### Pearson's is a pairwise test, the samples need to be:\n",
    "\n",
    "**1. paired**\n",
    "\n",
    "**2. sorted**\n",
    "\n",
    "> Test for non-correlation.\n",
    "\n",
    "> The Pearson correlation coefficient measures the linear relationship between two datasets. $r$ varies between -1 and +1 with 0 implying no correlation.\n",
    "\n",
    "> The p-value roughly indicates the probability of an uncorrelated system producing datasets that have a Pearson correlation at least as extreme as the one computed from these datasets. The p-values are not entirely reliable but are probably reasonable for datasets larger than 500 or so.\n",
    "\n",
    "> **Returns: Pearson’s correlation coefficient, two-tailed p-value**"
   ]
  },
  {
   "cell_type": "code",
   "execution_count": 19,
   "metadata": {
    "ExecuteTime": {
     "end_time": "2017-10-05T17:05:04.485128",
     "start_time": "2017-10-05T17:05:04.480928"
    },
    "run_control": {
     "frozen": false,
     "read_only": false
    }
   },
   "outputs": [
    {
     "name": "stdout",
     "output_type": "stream",
     "text": [
      "(0.97663769568276448, 0.0)\n"
     ]
    }
   ],
   "source": [
    "# Conduct Pearson's test\n",
    "pr = st.pearsonr(df3.tDay, df3.tNight)\n",
    "print(pr)"
   ]
  },
  {
   "cell_type": "markdown",
   "metadata": {},
   "source": [
    "## Discussion\n",
    "### Null Hypothesis: There is no correlation between daytime trip duration and nighttime trip duration ($\\rho = 0$)\n",
    "\n",
    "That is, in our context, the null hypothesis to be tested is that the distributions are not similar at all.\n",
    "\n",
    "Since I have sorted the durations in ascending order, the **alternative** is that:\n",
    "\n",
    "Literally, longer daytime trips are correlated with longer nighttime trips.\n",
    "\n",
    "In our context, that means if we have a $\\rho = 1$, the distributions overlap each other perfectly.\n",
    "\n",
    "### Significance Level: $\\alpha = 0.05$\n",
    "### Test Outputs: Pearson's corr. coef. = 0.977 and the p-value = 0.0\n",
    "### Result: We rejected the null hypothesis since the p-value is less than 0.05.\n",
    "\n",
    "The inference we have is that it is very unlikely the two distributions have no correlations. In other words, they are actually pretty identical with a corr. coef. of nearly 1."
   ]
  },
  {
   "cell_type": "markdown",
   "metadata": {
    "run_control": {
     "frozen": false,
     "read_only": false
    }
   },
   "source": [
    "## Spearman's test for correlation\n",
    "\n",
    "http://docs.scipy.org/doc/scipy/reference/generated/scipy.stats.spearmanr.html#scipy.stats.spearmanr\n",
    "\n",
    "> Test for non-correlation.\n",
    "\n",
    "> **Returns: Spearman correlation matrix/coefficient, two-tailed p-value**"
   ]
  },
  {
   "cell_type": "code",
   "execution_count": 20,
   "metadata": {
    "ExecuteTime": {
     "end_time": "2017-10-05T17:05:09.530148",
     "start_time": "2017-10-05T17:05:09.525214"
    },
    "run_control": {
     "frozen": false,
     "read_only": false
    }
   },
   "outputs": [
    {
     "name": "stdout",
     "output_type": "stream",
     "text": [
      "SpearmanrResult(correlation=0.99999934818002356, pvalue=0.0)\n"
     ]
    }
   ],
   "source": [
    "# Conduct Spearman's test\n",
    "sr = st.spearmanr(df3.tDay, df3.tNight)\n",
    "print(sr)"
   ]
  },
  {
   "cell_type": "markdown",
   "metadata": {
    "collapsed": true,
    "run_control": {
     "frozen": false,
     "read_only": false
    }
   },
   "source": [
    "## Discussion\n",
    "### Null Hypothesis: There is no correlation between daytime trip duration and nighttime trip duration ($\\rho = 0$)\n",
    "\n",
    "That is, in our context, the null hypothesis to be tested is that the distributions are not similar at all.\n",
    "\n",
    "Since I have sorted the durations in ascending order, the **alternative** is that:\n",
    "\n",
    "Literally, longer daytime trips are correlated with longer nighttime trips.\n",
    "\n",
    "In our context, that means if we have a $\\rho = 1$, the distributions overlap each other perfectly.\n",
    "\n",
    "### Significance Level: $\\alpha = 0.05$\n",
    "### Test Outputs: Spearman's corr. coef. = 1 (0.999...) and the p-value = 0.0\n",
    "### Result: We rejected the null hypothesis since the p-value is less than 0.05.\n",
    "\n",
    "The inference we have is that it is very unlikely the two distributions have no correlations. In other words, they are actually pretty identical with a corr. coef. of nearly 1. Note that Spearman's test seems to be less strict in reaching corr. coef. of 1."
   ]
  },
  {
   "cell_type": "code",
   "execution_count": null,
   "metadata": {
    "collapsed": true
   },
   "outputs": [],
   "source": []
  },
  {
   "cell_type": "markdown",
   "metadata": {
    "run_control": {
     "frozen": false,
     "read_only": false
    }
   },
   "source": [
    "# Test 2: age of bikers for trips originating in Manhattan and in Brooklyn\n",
    "## Split by category\n",
    "\n",
    "### I am splitting data by location (Manhattan, Brooklyn) and looking at the age of riders:\n",
    "### $H_0$: there is no statistical difference in the age distribution of riders that originate in Manhattan and in Brooklyn\n",
    "### $\\alpha = 0.05$"
   ]
  },
  {
   "cell_type": "markdown",
   "metadata": {
    "run_control": {
     "frozen": false,
     "read_only": false
    }
   },
   "source": [
    "## Read in data\n",
    "\n",
    "### Data used: Autumn 2015 (Sep., Oct., Nov.)"
   ]
  },
  {
   "cell_type": "code",
   "execution_count": 21,
   "metadata": {},
   "outputs": [
    {
     "data": {
      "text/html": [
       "<div>\n",
       "<style>\n",
       "    .dataframe thead tr:only-child th {\n",
       "        text-align: right;\n",
       "    }\n",
       "\n",
       "    .dataframe thead th {\n",
       "        text-align: left;\n",
       "    }\n",
       "\n",
       "    .dataframe tbody tr th {\n",
       "        vertical-align: top;\n",
       "    }\n",
       "</style>\n",
       "<table border=\"1\" class=\"dataframe\">\n",
       "  <thead>\n",
       "    <tr style=\"text-align: right;\">\n",
       "      <th></th>\n",
       "      <th>tripduration</th>\n",
       "      <th>starttime</th>\n",
       "      <th>stoptime</th>\n",
       "      <th>start station id</th>\n",
       "      <th>start station name</th>\n",
       "      <th>start station latitude</th>\n",
       "      <th>start station longitude</th>\n",
       "      <th>end station id</th>\n",
       "      <th>end station name</th>\n",
       "      <th>end station latitude</th>\n",
       "      <th>end station longitude</th>\n",
       "      <th>bikeid</th>\n",
       "      <th>usertype</th>\n",
       "      <th>birth year</th>\n",
       "      <th>gender</th>\n",
       "      <th>date</th>\n",
       "      <th>tDay</th>\n",
       "      <th>tNight</th>\n",
       "    </tr>\n",
       "  </thead>\n",
       "  <tbody>\n",
       "    <tr>\n",
       "      <th>0</th>\n",
       "      <td>288</td>\n",
       "      <td>9/1/2015 00:00:00</td>\n",
       "      <td>9/1/2015 00:04:48</td>\n",
       "      <td>263</td>\n",
       "      <td>Elizabeth St &amp; Hester St</td>\n",
       "      <td>40.717290</td>\n",
       "      <td>-73.996375</td>\n",
       "      <td>307</td>\n",
       "      <td>Canal St &amp; Rutgers St</td>\n",
       "      <td>40.714275</td>\n",
       "      <td>-73.989900</td>\n",
       "      <td>15479</td>\n",
       "      <td>Subscriber</td>\n",
       "      <td>1989.0</td>\n",
       "      <td>1</td>\n",
       "      <td>2015-09-01 00:00:00</td>\n",
       "      <td>NaN</td>\n",
       "      <td>288.0</td>\n",
       "    </tr>\n",
       "    <tr>\n",
       "      <th>1</th>\n",
       "      <td>165</td>\n",
       "      <td>9/1/2015 00:00:00</td>\n",
       "      <td>9/1/2015 00:02:45</td>\n",
       "      <td>495</td>\n",
       "      <td>W 47 St &amp; 10 Ave</td>\n",
       "      <td>40.762699</td>\n",
       "      <td>-73.993012</td>\n",
       "      <td>449</td>\n",
       "      <td>W 52 St &amp; 9 Ave</td>\n",
       "      <td>40.764618</td>\n",
       "      <td>-73.987895</td>\n",
       "      <td>23899</td>\n",
       "      <td>Subscriber</td>\n",
       "      <td>1987.0</td>\n",
       "      <td>1</td>\n",
       "      <td>2015-09-01 00:00:00</td>\n",
       "      <td>NaN</td>\n",
       "      <td>165.0</td>\n",
       "    </tr>\n",
       "    <tr>\n",
       "      <th>2</th>\n",
       "      <td>367</td>\n",
       "      <td>9/1/2015 00:00:01</td>\n",
       "      <td>9/1/2015 00:06:08</td>\n",
       "      <td>3119</td>\n",
       "      <td>Vernon Blvd &amp; 50 Ave</td>\n",
       "      <td>40.742327</td>\n",
       "      <td>-73.954117</td>\n",
       "      <td>3118</td>\n",
       "      <td>McGuinness Blvd &amp; Eagle St</td>\n",
       "      <td>40.735550</td>\n",
       "      <td>-73.952840</td>\n",
       "      <td>23921</td>\n",
       "      <td>Customer</td>\n",
       "      <td>NaN</td>\n",
       "      <td>0</td>\n",
       "      <td>2015-09-01 00:00:01</td>\n",
       "      <td>NaN</td>\n",
       "      <td>NaN</td>\n",
       "    </tr>\n",
       "    <tr>\n",
       "      <th>3</th>\n",
       "      <td>926</td>\n",
       "      <td>9/1/2015 00:00:07</td>\n",
       "      <td>9/1/2015 00:15:34</td>\n",
       "      <td>536</td>\n",
       "      <td>1 Ave &amp; E 30 St</td>\n",
       "      <td>40.741444</td>\n",
       "      <td>-73.975361</td>\n",
       "      <td>340</td>\n",
       "      <td>Madison St &amp; Clinton St</td>\n",
       "      <td>40.712690</td>\n",
       "      <td>-73.987763</td>\n",
       "      <td>23256</td>\n",
       "      <td>Subscriber</td>\n",
       "      <td>1992.0</td>\n",
       "      <td>1</td>\n",
       "      <td>2015-09-01 00:00:07</td>\n",
       "      <td>NaN</td>\n",
       "      <td>926.0</td>\n",
       "    </tr>\n",
       "    <tr>\n",
       "      <th>4</th>\n",
       "      <td>658</td>\n",
       "      <td>9/1/2015 00:00:09</td>\n",
       "      <td>9/1/2015 00:11:07</td>\n",
       "      <td>347</td>\n",
       "      <td>Greenwich St &amp; W Houston St</td>\n",
       "      <td>40.728846</td>\n",
       "      <td>-74.008591</td>\n",
       "      <td>483</td>\n",
       "      <td>E 12 St &amp; 3 Ave</td>\n",
       "      <td>40.732233</td>\n",
       "      <td>-73.988900</td>\n",
       "      <td>17289</td>\n",
       "      <td>Subscriber</td>\n",
       "      <td>1976.0</td>\n",
       "      <td>1</td>\n",
       "      <td>2015-09-01 00:00:09</td>\n",
       "      <td>NaN</td>\n",
       "      <td>658.0</td>\n",
       "    </tr>\n",
       "  </tbody>\n",
       "</table>\n",
       "</div>"
      ],
      "text/plain": [
       "   tripduration          starttime           stoptime  start station id  \\\n",
       "0           288  9/1/2015 00:00:00  9/1/2015 00:04:48               263   \n",
       "1           165  9/1/2015 00:00:00  9/1/2015 00:02:45               495   \n",
       "2           367  9/1/2015 00:00:01  9/1/2015 00:06:08              3119   \n",
       "3           926  9/1/2015 00:00:07  9/1/2015 00:15:34               536   \n",
       "4           658  9/1/2015 00:00:09  9/1/2015 00:11:07               347   \n",
       "\n",
       "            start station name  start station latitude  \\\n",
       "0     Elizabeth St & Hester St               40.717290   \n",
       "1             W 47 St & 10 Ave               40.762699   \n",
       "2         Vernon Blvd & 50 Ave               40.742327   \n",
       "3              1 Ave & E 30 St               40.741444   \n",
       "4  Greenwich St & W Houston St               40.728846   \n",
       "\n",
       "   start station longitude  end station id            end station name  \\\n",
       "0               -73.996375             307       Canal St & Rutgers St   \n",
       "1               -73.993012             449             W 52 St & 9 Ave   \n",
       "2               -73.954117            3118  McGuinness Blvd & Eagle St   \n",
       "3               -73.975361             340     Madison St & Clinton St   \n",
       "4               -74.008591             483             E 12 St & 3 Ave   \n",
       "\n",
       "   end station latitude  end station longitude  bikeid    usertype  \\\n",
       "0             40.714275             -73.989900   15479  Subscriber   \n",
       "1             40.764618             -73.987895   23899  Subscriber   \n",
       "2             40.735550             -73.952840   23921    Customer   \n",
       "3             40.712690             -73.987763   23256  Subscriber   \n",
       "4             40.732233             -73.988900   17289  Subscriber   \n",
       "\n",
       "   birth year  gender                date  tDay  tNight  \n",
       "0      1989.0       1 2015-09-01 00:00:00   NaN   288.0  \n",
       "1      1987.0       1 2015-09-01 00:00:00   NaN   165.0  \n",
       "2         NaN       0 2015-09-01 00:00:01   NaN     NaN  \n",
       "3      1992.0       1 2015-09-01 00:00:07   NaN   926.0  \n",
       "4      1976.0       1 2015-09-01 00:00:09   NaN   658.0  "
      ]
     },
     "execution_count": 21,
     "metadata": {},
     "output_type": "execute_result"
    }
   ],
   "source": [
    "# Use the same data set and the df read in at the beginning\n",
    "df.head()"
   ]
  },
  {
   "cell_type": "code",
   "execution_count": 22,
   "metadata": {},
   "outputs": [],
   "source": [
    "# Write out csv for unique station list in order to categorize stations by borough outside Jupyter\n",
    "#len(df['start station id'].unique())\n",
    "#df99 = df.drop(['tripduration', 'starttime', 'stoptime', 'end station id', 'end station name',\n",
    "#                'end station latitude', 'end station longitude', 'bikeid', 'usertype',\n",
    "#                'birth year', 'gender', 'date'], axis=1)\n",
    "#df99.drop_duplicates(subset='start station name', inplace=True)\n",
    "#len(df99)\n",
    "\n",
    "#df99.to_csv('stationlist.csv')\n",
    "\n",
    "#fig = pl.figure(figsize(10,10))\n",
    "#ax = pl.scatter(df['start station longitude'], df['start station latitude'])\n",
    "#ax = fig.add_subplot(111)"
   ]
  },
  {
   "cell_type": "code",
   "execution_count": 23,
   "metadata": {},
   "outputs": [
    {
     "data": {
      "text/plain": [
       "False"
      ]
     },
     "execution_count": 23,
     "metadata": {},
     "output_type": "execute_result"
    }
   ],
   "source": [
    "# Check if there is missing value in station id\n",
    "df['start station id'].isnull().any()"
   ]
  },
  {
   "cell_type": "code",
   "execution_count": 24,
   "metadata": {},
   "outputs": [],
   "source": [
    "# Do it the dumb way: list out station ids for each borough (id categorized outside Jupyter)\n",
    "queens = list(range(3119, 3131))\n",
    "brklyn = [83,119,120,143,144,157,216,217,218,232,233,239,241,242,243,244,245,258,261,262,270,274,275,278,282,289,298,\n",
    "          310,313,314,321,322,323,324,343,344,353,354,364,365,366,372,373,384,389,390,391,392,395,396,397,398,399,406,\n",
    "          409,414,416,418,419,420,421,430,431,436,437,443,460,467,471,481,532,539,2000,2001,2002,2005,3041,3042,3043,\n",
    "          3044,3046,3047,3048,3049,3050,3052,3053,3054,3055,3056,3057,3058,3059,3060,3061,3062,3063,3064,3065,3066,\n",
    "          3067,3068,3069,3070,3071,3072,3073,3074,3075,3076,3077,3079,3080,3081,3082,3083,3084,3085,3086,3087,3088,\n",
    "          3090,3091,3092,3093,3094,3095,3097,3098,3101,3102,3103,3104,3105,3106,3107,3108,3109,3110,3111,3112,3113,\n",
    "          3114,3115,3117,3118,3179,3180,3222,3232]"
   ]
  },
  {
   "cell_type": "code",
   "execution_count": 25,
   "metadata": {},
   "outputs": [],
   "source": [
    "# Create borough idnetifier list (this step takes time)\n",
    "boro=[]\n",
    "for i in df['start station id'].values:\n",
    "    if i in queens:\n",
    "        boro.append(0)\n",
    "    elif i in brklyn:\n",
    "        boro.append(1)\n",
    "    else:\n",
    "        boro.append(2)\n",
    "        # the rest are Manhattan stations"
   ]
  },
  {
   "cell_type": "code",
   "execution_count": 26,
   "metadata": {
    "scrolled": true
   },
   "outputs": [
    {
     "data": {
      "text/html": [
       "<div>\n",
       "<style>\n",
       "    .dataframe thead tr:only-child th {\n",
       "        text-align: right;\n",
       "    }\n",
       "\n",
       "    .dataframe thead th {\n",
       "        text-align: left;\n",
       "    }\n",
       "\n",
       "    .dataframe tbody tr th {\n",
       "        vertical-align: top;\n",
       "    }\n",
       "</style>\n",
       "<table border=\"1\" class=\"dataframe\">\n",
       "  <thead>\n",
       "    <tr style=\"text-align: right;\">\n",
       "      <th></th>\n",
       "      <th>tripduration</th>\n",
       "      <th>starttime</th>\n",
       "      <th>stoptime</th>\n",
       "      <th>start station id</th>\n",
       "      <th>start station name</th>\n",
       "      <th>start station latitude</th>\n",
       "      <th>start station longitude</th>\n",
       "      <th>end station id</th>\n",
       "      <th>end station name</th>\n",
       "      <th>end station latitude</th>\n",
       "      <th>end station longitude</th>\n",
       "      <th>bikeid</th>\n",
       "      <th>usertype</th>\n",
       "      <th>birth year</th>\n",
       "      <th>gender</th>\n",
       "      <th>date</th>\n",
       "      <th>tDay</th>\n",
       "      <th>tNight</th>\n",
       "      <th>boro</th>\n",
       "    </tr>\n",
       "  </thead>\n",
       "  <tbody>\n",
       "    <tr>\n",
       "      <th>0</th>\n",
       "      <td>288</td>\n",
       "      <td>9/1/2015 00:00:00</td>\n",
       "      <td>9/1/2015 00:04:48</td>\n",
       "      <td>263</td>\n",
       "      <td>Elizabeth St &amp; Hester St</td>\n",
       "      <td>40.717290</td>\n",
       "      <td>-73.996375</td>\n",
       "      <td>307</td>\n",
       "      <td>Canal St &amp; Rutgers St</td>\n",
       "      <td>40.714275</td>\n",
       "      <td>-73.989900</td>\n",
       "      <td>15479</td>\n",
       "      <td>Subscriber</td>\n",
       "      <td>1989.0</td>\n",
       "      <td>1</td>\n",
       "      <td>2015-09-01 00:00:00</td>\n",
       "      <td>NaN</td>\n",
       "      <td>288.0</td>\n",
       "      <td>2</td>\n",
       "    </tr>\n",
       "    <tr>\n",
       "      <th>1</th>\n",
       "      <td>165</td>\n",
       "      <td>9/1/2015 00:00:00</td>\n",
       "      <td>9/1/2015 00:02:45</td>\n",
       "      <td>495</td>\n",
       "      <td>W 47 St &amp; 10 Ave</td>\n",
       "      <td>40.762699</td>\n",
       "      <td>-73.993012</td>\n",
       "      <td>449</td>\n",
       "      <td>W 52 St &amp; 9 Ave</td>\n",
       "      <td>40.764618</td>\n",
       "      <td>-73.987895</td>\n",
       "      <td>23899</td>\n",
       "      <td>Subscriber</td>\n",
       "      <td>1987.0</td>\n",
       "      <td>1</td>\n",
       "      <td>2015-09-01 00:00:00</td>\n",
       "      <td>NaN</td>\n",
       "      <td>165.0</td>\n",
       "      <td>2</td>\n",
       "    </tr>\n",
       "    <tr>\n",
       "      <th>2</th>\n",
       "      <td>367</td>\n",
       "      <td>9/1/2015 00:00:01</td>\n",
       "      <td>9/1/2015 00:06:08</td>\n",
       "      <td>3119</td>\n",
       "      <td>Vernon Blvd &amp; 50 Ave</td>\n",
       "      <td>40.742327</td>\n",
       "      <td>-73.954117</td>\n",
       "      <td>3118</td>\n",
       "      <td>McGuinness Blvd &amp; Eagle St</td>\n",
       "      <td>40.735550</td>\n",
       "      <td>-73.952840</td>\n",
       "      <td>23921</td>\n",
       "      <td>Customer</td>\n",
       "      <td>NaN</td>\n",
       "      <td>0</td>\n",
       "      <td>2015-09-01 00:00:01</td>\n",
       "      <td>NaN</td>\n",
       "      <td>NaN</td>\n",
       "      <td>0</td>\n",
       "    </tr>\n",
       "    <tr>\n",
       "      <th>3</th>\n",
       "      <td>926</td>\n",
       "      <td>9/1/2015 00:00:07</td>\n",
       "      <td>9/1/2015 00:15:34</td>\n",
       "      <td>536</td>\n",
       "      <td>1 Ave &amp; E 30 St</td>\n",
       "      <td>40.741444</td>\n",
       "      <td>-73.975361</td>\n",
       "      <td>340</td>\n",
       "      <td>Madison St &amp; Clinton St</td>\n",
       "      <td>40.712690</td>\n",
       "      <td>-73.987763</td>\n",
       "      <td>23256</td>\n",
       "      <td>Subscriber</td>\n",
       "      <td>1992.0</td>\n",
       "      <td>1</td>\n",
       "      <td>2015-09-01 00:00:07</td>\n",
       "      <td>NaN</td>\n",
       "      <td>926.0</td>\n",
       "      <td>2</td>\n",
       "    </tr>\n",
       "    <tr>\n",
       "      <th>4</th>\n",
       "      <td>658</td>\n",
       "      <td>9/1/2015 00:00:09</td>\n",
       "      <td>9/1/2015 00:11:07</td>\n",
       "      <td>347</td>\n",
       "      <td>Greenwich St &amp; W Houston St</td>\n",
       "      <td>40.728846</td>\n",
       "      <td>-74.008591</td>\n",
       "      <td>483</td>\n",
       "      <td>E 12 St &amp; 3 Ave</td>\n",
       "      <td>40.732233</td>\n",
       "      <td>-73.988900</td>\n",
       "      <td>17289</td>\n",
       "      <td>Subscriber</td>\n",
       "      <td>1976.0</td>\n",
       "      <td>1</td>\n",
       "      <td>2015-09-01 00:00:09</td>\n",
       "      <td>NaN</td>\n",
       "      <td>658.0</td>\n",
       "      <td>2</td>\n",
       "    </tr>\n",
       "  </tbody>\n",
       "</table>\n",
       "</div>"
      ],
      "text/plain": [
       "   tripduration          starttime           stoptime  start station id  \\\n",
       "0           288  9/1/2015 00:00:00  9/1/2015 00:04:48               263   \n",
       "1           165  9/1/2015 00:00:00  9/1/2015 00:02:45               495   \n",
       "2           367  9/1/2015 00:00:01  9/1/2015 00:06:08              3119   \n",
       "3           926  9/1/2015 00:00:07  9/1/2015 00:15:34               536   \n",
       "4           658  9/1/2015 00:00:09  9/1/2015 00:11:07               347   \n",
       "\n",
       "            start station name  start station latitude  \\\n",
       "0     Elizabeth St & Hester St               40.717290   \n",
       "1             W 47 St & 10 Ave               40.762699   \n",
       "2         Vernon Blvd & 50 Ave               40.742327   \n",
       "3              1 Ave & E 30 St               40.741444   \n",
       "4  Greenwich St & W Houston St               40.728846   \n",
       "\n",
       "   start station longitude  end station id            end station name  \\\n",
       "0               -73.996375             307       Canal St & Rutgers St   \n",
       "1               -73.993012             449             W 52 St & 9 Ave   \n",
       "2               -73.954117            3118  McGuinness Blvd & Eagle St   \n",
       "3               -73.975361             340     Madison St & Clinton St   \n",
       "4               -74.008591             483             E 12 St & 3 Ave   \n",
       "\n",
       "   end station latitude  end station longitude  bikeid    usertype  \\\n",
       "0             40.714275             -73.989900   15479  Subscriber   \n",
       "1             40.764618             -73.987895   23899  Subscriber   \n",
       "2             40.735550             -73.952840   23921    Customer   \n",
       "3             40.712690             -73.987763   23256  Subscriber   \n",
       "4             40.732233             -73.988900   17289  Subscriber   \n",
       "\n",
       "   birth year  gender                date  tDay  tNight  boro  \n",
       "0      1989.0       1 2015-09-01 00:00:00   NaN   288.0     2  \n",
       "1      1987.0       1 2015-09-01 00:00:00   NaN   165.0     2  \n",
       "2         NaN       0 2015-09-01 00:00:01   NaN     NaN     0  \n",
       "3      1992.0       1 2015-09-01 00:00:07   NaN   926.0     2  \n",
       "4      1976.0       1 2015-09-01 00:00:09   NaN   658.0     2  "
      ]
     },
     "execution_count": 26,
     "metadata": {},
     "output_type": "execute_result"
    }
   ],
   "source": [
    "# Join boro column to dataframe\n",
    "dfboro = pd.DataFrame({'boro':boro})\n",
    "df4 = pd.concat([df,dfboro], axis=1)\n",
    "df4.head()"
   ]
  },
  {
   "cell_type": "code",
   "execution_count": 27,
   "metadata": {},
   "outputs": [],
   "source": [
    "# Calculate age (for subscribers only!)\n",
    "df4['ageM'] = 2015 - df4['birth year'][(df4['usertype'] == 'Subscriber') & (df4['boro'] == 2)]\n",
    "df4['ageB'] = 2015 - df4['birth year'][(df4['usertype'] == 'Subscriber') & (df4['boro'] == 1)]"
   ]
  },
  {
   "cell_type": "code",
   "execution_count": 28,
   "metadata": {
    "scrolled": true
   },
   "outputs": [
    {
     "data": {
      "text/html": [
       "<div>\n",
       "<style>\n",
       "    .dataframe thead tr:only-child th {\n",
       "        text-align: right;\n",
       "    }\n",
       "\n",
       "    .dataframe thead th {\n",
       "        text-align: left;\n",
       "    }\n",
       "\n",
       "    .dataframe tbody tr th {\n",
       "        vertical-align: top;\n",
       "    }\n",
       "</style>\n",
       "<table border=\"1\" class=\"dataframe\">\n",
       "  <thead>\n",
       "    <tr style=\"text-align: right;\">\n",
       "      <th></th>\n",
       "      <th>ageM</th>\n",
       "      <th>ageB</th>\n",
       "    </tr>\n",
       "  </thead>\n",
       "  <tbody>\n",
       "    <tr>\n",
       "      <th>0</th>\n",
       "      <td>26.0</td>\n",
       "      <td>NaN</td>\n",
       "    </tr>\n",
       "    <tr>\n",
       "      <th>1</th>\n",
       "      <td>28.0</td>\n",
       "      <td>NaN</td>\n",
       "    </tr>\n",
       "    <tr>\n",
       "      <th>2</th>\n",
       "      <td>NaN</td>\n",
       "      <td>NaN</td>\n",
       "    </tr>\n",
       "    <tr>\n",
       "      <th>3</th>\n",
       "      <td>23.0</td>\n",
       "      <td>NaN</td>\n",
       "    </tr>\n",
       "    <tr>\n",
       "      <th>4</th>\n",
       "      <td>39.0</td>\n",
       "      <td>NaN</td>\n",
       "    </tr>\n",
       "  </tbody>\n",
       "</table>\n",
       "</div>"
      ],
      "text/plain": [
       "   ageM  ageB\n",
       "0  26.0   NaN\n",
       "1  28.0   NaN\n",
       "2   NaN   NaN\n",
       "3  23.0   NaN\n",
       "4  39.0   NaN"
      ]
     },
     "execution_count": 28,
     "metadata": {},
     "output_type": "execute_result"
    }
   ],
   "source": [
    "#drop unnecessary columns\n",
    "df4 = df4.drop(['tripduration', 'starttime', 'stoptime', 'start station id',\n",
    "               'start station name', 'start station latitude',\n",
    "               'start station longitude', 'end station id', 'end station name',\n",
    "               'end station latitude', 'end station longitude', 'bikeid', 'usertype',\n",
    "               'birth year', 'gender', 'date', 'boro', 'tDay', 'tNight'], axis=1)\n",
    "df4.head()"
   ]
  },
  {
   "cell_type": "code",
   "execution_count": 29,
   "metadata": {
    "ExecuteTime": {
     "end_time": "2017-10-05T16:55:03.392271",
     "start_time": "2017-10-05T16:55:02.902521"
    },
    "run_control": {
     "frozen": false,
     "read_only": false
    }
   },
   "outputs": [
    {
     "data": {
      "text/html": [
       "<div>\n",
       "<style>\n",
       "    .dataframe thead tr:only-child th {\n",
       "        text-align: right;\n",
       "    }\n",
       "\n",
       "    .dataframe thead th {\n",
       "        text-align: left;\n",
       "    }\n",
       "\n",
       "    .dataframe tbody tr th {\n",
       "        vertical-align: top;\n",
       "    }\n",
       "</style>\n",
       "<table border=\"1\" class=\"dataframe\">\n",
       "  <thead>\n",
       "    <tr style=\"text-align: right;\">\n",
       "      <th></th>\n",
       "      <th>ageM</th>\n",
       "      <th>ageB</th>\n",
       "    </tr>\n",
       "  </thead>\n",
       "  <tbody>\n",
       "    <tr>\n",
       "      <th>count</th>\n",
       "      <td>970582.000000</td>\n",
       "      <td>102243.000000</td>\n",
       "    </tr>\n",
       "    <tr>\n",
       "      <th>mean</th>\n",
       "      <td>37.919069</td>\n",
       "      <td>35.669454</td>\n",
       "    </tr>\n",
       "    <tr>\n",
       "      <th>std</th>\n",
       "      <td>11.685578</td>\n",
       "      <td>9.558067</td>\n",
       "    </tr>\n",
       "    <tr>\n",
       "      <th>min</th>\n",
       "      <td>16.000000</td>\n",
       "      <td>16.000000</td>\n",
       "    </tr>\n",
       "    <tr>\n",
       "      <th>25%</th>\n",
       "      <td>29.000000</td>\n",
       "      <td>29.000000</td>\n",
       "    </tr>\n",
       "    <tr>\n",
       "      <th>50%</th>\n",
       "      <td>35.000000</td>\n",
       "      <td>34.000000</td>\n",
       "    </tr>\n",
       "    <tr>\n",
       "      <th>75%</th>\n",
       "      <td>46.000000</td>\n",
       "      <td>41.000000</td>\n",
       "    </tr>\n",
       "    <tr>\n",
       "      <th>max</th>\n",
       "      <td>130.000000</td>\n",
       "      <td>130.000000</td>\n",
       "    </tr>\n",
       "  </tbody>\n",
       "</table>\n",
       "</div>"
      ],
      "text/plain": [
       "                ageM           ageB\n",
       "count  970582.000000  102243.000000\n",
       "mean       37.919069      35.669454\n",
       "std        11.685578       9.558067\n",
       "min        16.000000      16.000000\n",
       "25%        29.000000      29.000000\n",
       "50%        35.000000      34.000000\n",
       "75%        46.000000      41.000000\n",
       "max       130.000000     130.000000"
      ]
     },
     "execution_count": 29,
     "metadata": {},
     "output_type": "execute_result"
    }
   ],
   "source": [
    "df4.describe()"
   ]
  },
  {
   "cell_type": "code",
   "execution_count": 30,
   "metadata": {
    "run_control": {
     "frozen": false,
     "read_only": false
    }
   },
   "outputs": [
    {
     "name": "stdout",
     "output_type": "stream",
     "text": [
      "NOTICE: 16.82% of the data have no age data in the df now\n"
     ]
    }
   ],
   "source": [
    "# Examine NaN values before dropping them\n",
    "ageMnull = df4.ageM.isnull()\n",
    "ageBnull = df4.ageB.isnull()\n",
    "pctnull = len(df4[ageMnull & ageBnull]) / len(df4) * 100\n",
    "print('NOTICE: %.2f%% of the data have no age data in the df now'%(pctnull))"
   ]
  },
  {
   "cell_type": "code",
   "execution_count": 31,
   "metadata": {
    "ExecuteTime": {
     "end_time": "2017-10-05T16:55:05.649685",
     "start_time": "2017-10-05T16:55:05.635796"
    },
    "run_control": {
     "frozen": false,
     "read_only": false
    }
   },
   "outputs": [
    {
     "data": {
      "text/html": [
       "<div>\n",
       "<style>\n",
       "    .dataframe thead tr:only-child th {\n",
       "        text-align: right;\n",
       "    }\n",
       "\n",
       "    .dataframe thead th {\n",
       "        text-align: left;\n",
       "    }\n",
       "\n",
       "    .dataframe tbody tr th {\n",
       "        vertical-align: top;\n",
       "    }\n",
       "</style>\n",
       "<table border=\"1\" class=\"dataframe\">\n",
       "  <thead>\n",
       "    <tr style=\"text-align: right;\">\n",
       "      <th></th>\n",
       "      <th>ageM</th>\n",
       "      <th>ageB</th>\n",
       "    </tr>\n",
       "  </thead>\n",
       "  <tbody>\n",
       "    <tr>\n",
       "      <th>0</th>\n",
       "      <td>26.0</td>\n",
       "      <td>NaN</td>\n",
       "    </tr>\n",
       "    <tr>\n",
       "      <th>1</th>\n",
       "      <td>28.0</td>\n",
       "      <td>NaN</td>\n",
       "    </tr>\n",
       "    <tr>\n",
       "      <th>3</th>\n",
       "      <td>23.0</td>\n",
       "      <td>NaN</td>\n",
       "    </tr>\n",
       "    <tr>\n",
       "      <th>4</th>\n",
       "      <td>39.0</td>\n",
       "      <td>NaN</td>\n",
       "    </tr>\n",
       "    <tr>\n",
       "      <th>5</th>\n",
       "      <td>60.0</td>\n",
       "      <td>NaN</td>\n",
       "    </tr>\n",
       "  </tbody>\n",
       "</table>\n",
       "</div>"
      ],
      "text/plain": [
       "   ageM  ageB\n",
       "0  26.0   NaN\n",
       "1  28.0   NaN\n",
       "3  23.0   NaN\n",
       "4  39.0   NaN\n",
       "5  60.0   NaN"
      ]
     },
     "execution_count": 31,
     "metadata": {},
     "output_type": "execute_result"
    }
   ],
   "source": [
    "# dropping trip data without trip duration (NaN values for both day and night)\n",
    "df4.dropna(how='all', inplace=True)\n",
    "df4.head()"
   ]
  },
  {
   "cell_type": "markdown",
   "metadata": {
    "collapsed": true,
    "run_control": {
     "frozen": false,
     "read_only": false
    }
   },
   "source": [
    "## KS test\n",
    "\n",
    "http://docs.scipy.org/doc/scipy-0.15.1/reference/generated/scipy.stats.ks_2samp.html\n",
    "\n",
    "> This is a two-sided test for the null hypothesis that 2 independent samples are drawn from the same continuous distribution.\n",
    "\n",
    "> If the K-S statistic is small or the p-value is high, then we cannot reject the hypothesis that the distributions of the two samples are the same.\n",
    "\n",
    "> **Returns: KS statistic, two-tailed p-value**"
   ]
  },
  {
   "cell_type": "code",
   "execution_count": 32,
   "metadata": {
    "ExecuteTime": {
     "end_time": "2017-10-05T16:58:13.968035",
     "start_time": "2017-10-05T16:58:13.899033"
    },
    "run_control": {
     "frozen": false,
     "read_only": false
    }
   },
   "outputs": [
    {
     "name": "stdout",
     "output_type": "stream",
     "text": [
      "Ks_2sampResult(statistic=0.80939482208188651, pvalue=0.0)\n"
     ]
    }
   ],
   "source": [
    "# Conduct KS test\n",
    "ks3 = st.ks_2samp(df4.ageM, df4.ageB)\n",
    "print(ks3)"
   ]
  },
  {
   "cell_type": "markdown",
   "metadata": {
    "ExecuteTime": {
     "end_time": "2017-10-05T16:58:24.751556",
     "start_time": "2017-10-05T16:58:24.747653"
    },
    "collapsed": true,
    "run_control": {
     "frozen": false,
     "read_only": false
    }
   },
   "source": [
    "## Discussion\n",
    "### Null Hypothesis: The age distributions between bikers originated in Manhattan and Brooklyn are the same.\n",
    "### Significance Level: $\\alpha = 0.05$\n",
    "### Test Outputs: KS statistic = 0.809 and the p-value = 0.0\n",
    "### Result: We rejected the null hypothesis since the p-value is less than 0.05.\n",
    "That means, the age patterns in for riders begining trips in different regions (Manhattan and Brooklyn) are actually not the same."
   ]
  },
  {
   "cell_type": "markdown",
   "metadata": {},
   "source": [
    "## Repeat KS test with a subset 200 times smaller"
   ]
  },
  {
   "cell_type": "code",
   "execution_count": 33,
   "metadata": {},
   "outputs": [
    {
     "data": {
      "text/html": [
       "<div>\n",
       "<style>\n",
       "    .dataframe thead tr:only-child th {\n",
       "        text-align: right;\n",
       "    }\n",
       "\n",
       "    .dataframe thead th {\n",
       "        text-align: left;\n",
       "    }\n",
       "\n",
       "    .dataframe tbody tr th {\n",
       "        vertical-align: top;\n",
       "    }\n",
       "</style>\n",
       "<table border=\"1\" class=\"dataframe\">\n",
       "  <thead>\n",
       "    <tr style=\"text-align: right;\">\n",
       "      <th></th>\n",
       "      <th>ageM</th>\n",
       "      <th>ageB</th>\n",
       "    </tr>\n",
       "  </thead>\n",
       "  <tbody>\n",
       "    <tr>\n",
       "      <th>count</th>\n",
       "      <td>4832.000000</td>\n",
       "      <td>514.000000</td>\n",
       "    </tr>\n",
       "    <tr>\n",
       "      <th>mean</th>\n",
       "      <td>37.932947</td>\n",
       "      <td>35.961089</td>\n",
       "    </tr>\n",
       "    <tr>\n",
       "      <th>std</th>\n",
       "      <td>11.603416</td>\n",
       "      <td>9.410626</td>\n",
       "    </tr>\n",
       "    <tr>\n",
       "      <th>min</th>\n",
       "      <td>17.000000</td>\n",
       "      <td>16.000000</td>\n",
       "    </tr>\n",
       "    <tr>\n",
       "      <th>25%</th>\n",
       "      <td>29.000000</td>\n",
       "      <td>29.000000</td>\n",
       "    </tr>\n",
       "    <tr>\n",
       "      <th>50%</th>\n",
       "      <td>35.000000</td>\n",
       "      <td>33.000000</td>\n",
       "    </tr>\n",
       "    <tr>\n",
       "      <th>75%</th>\n",
       "      <td>46.000000</td>\n",
       "      <td>42.000000</td>\n",
       "    </tr>\n",
       "    <tr>\n",
       "      <th>max</th>\n",
       "      <td>80.000000</td>\n",
       "      <td>69.000000</td>\n",
       "    </tr>\n",
       "  </tbody>\n",
       "</table>\n",
       "</div>"
      ],
      "text/plain": [
       "              ageM        ageB\n",
       "count  4832.000000  514.000000\n",
       "mean     37.932947   35.961089\n",
       "std      11.603416    9.410626\n",
       "min      17.000000   16.000000\n",
       "25%      29.000000   29.000000\n",
       "50%      35.000000   33.000000\n",
       "75%      46.000000   42.000000\n",
       "max      80.000000   69.000000"
      ]
     },
     "execution_count": 33,
     "metadata": {},
     "output_type": "execute_result"
    }
   ],
   "source": [
    "# Subset 1 observation per 200\n",
    "df5 = df4[df4.index % 200 == 0]\n",
    "df5.describe()"
   ]
  },
  {
   "cell_type": "code",
   "execution_count": 34,
   "metadata": {
    "ExecuteTime": {
     "end_time": "2017-10-05T16:58:13.968035",
     "start_time": "2017-10-05T16:58:13.899033"
    },
    "run_control": {
     "frozen": false,
     "read_only": false
    }
   },
   "outputs": [
    {
     "name": "stdout",
     "output_type": "stream",
     "text": [
      "Ks_2sampResult(statistic=0.80770669659558547, pvalue=0.0)\n"
     ]
    }
   ],
   "source": [
    "# Conduct second KS test with smaller size data\n",
    "ks4 = st.ks_2samp(df5.ageM, df5.ageB)\n",
    "print(ks4)"
   ]
  },
  {
   "cell_type": "markdown",
   "metadata": {
    "ExecuteTime": {
     "end_time": "2017-10-05T16:58:24.751556",
     "start_time": "2017-10-05T16:58:24.747653"
    },
    "collapsed": true,
    "run_control": {
     "frozen": false,
     "read_only": false
    }
   },
   "source": [
    "## Discussion\n",
    "### Null Hypothesis: The age distributions between bikers originated in Manhattan and Brooklyn are the same.\n",
    "### Significance Level: $\\alpha = 0.05$\n",
    "### Test Outputs: KS statistic = 0.808 and the p-value = 0.0 (still small)\n",
    "### Result: We rejected the null hypothesis since the p-value is less than 0.05.\n",
    "Even with smaller sample sizes, we still infer that the age patterns in for riders begining trips in different regions (Manhattan and Brooklyn) are actually not the same."
   ]
  },
  {
   "cell_type": "markdown",
   "metadata": {},
   "source": [
    "## Subsampling\n",
    "Downsize daytime trip data to the size of nighttime data in order to pair up for the correlation test."
   ]
  },
  {
   "cell_type": "code",
   "execution_count": 35,
   "metadata": {},
   "outputs": [
    {
     "data": {
      "text/html": [
       "<div>\n",
       "<style>\n",
       "    .dataframe thead tr:only-child th {\n",
       "        text-align: right;\n",
       "    }\n",
       "\n",
       "    .dataframe thead th {\n",
       "        text-align: left;\n",
       "    }\n",
       "\n",
       "    .dataframe tbody tr th {\n",
       "        vertical-align: top;\n",
       "    }\n",
       "</style>\n",
       "<table border=\"1\" class=\"dataframe\">\n",
       "  <thead>\n",
       "    <tr style=\"text-align: right;\">\n",
       "      <th></th>\n",
       "      <th>0</th>\n",
       "      <th>1</th>\n",
       "    </tr>\n",
       "  </thead>\n",
       "  <tbody>\n",
       "    <tr>\n",
       "      <th>0</th>\n",
       "      <td>44.0</td>\n",
       "      <td>31.0</td>\n",
       "    </tr>\n",
       "    <tr>\n",
       "      <th>1</th>\n",
       "      <td>18.0</td>\n",
       "      <td>36.0</td>\n",
       "    </tr>\n",
       "    <tr>\n",
       "      <th>2</th>\n",
       "      <td>24.0</td>\n",
       "      <td>31.0</td>\n",
       "    </tr>\n",
       "    <tr>\n",
       "      <th>3</th>\n",
       "      <td>68.0</td>\n",
       "      <td>42.0</td>\n",
       "    </tr>\n",
       "    <tr>\n",
       "      <th>4</th>\n",
       "      <td>32.0</td>\n",
       "      <td>37.0</td>\n",
       "    </tr>\n",
       "  </tbody>\n",
       "</table>\n",
       "</div>"
      ],
      "text/plain": [
       "      0     1\n",
       "0  44.0  31.0\n",
       "1  18.0  36.0\n",
       "2  24.0  31.0\n",
       "3  68.0  42.0\n",
       "4  32.0  37.0"
      ]
     },
     "execution_count": 35,
     "metadata": {},
     "output_type": "execute_result"
    }
   ],
   "source": [
    "# Do simple sampling without replacement (I don't want the same trip twice in my sample)\n",
    "# Remove null cells in the process\n",
    "np.random.seed(1000)\n",
    "ageM2 = np.random.choice(df4['ageM'].dropna(), size=df4['ageB'].count(), replace=False)\n",
    "\n",
    "df6 = pd.DataFrame(data=[ageM2, df4['ageB'].dropna()]).T\n",
    "df6.head()"
   ]
  },
  {
   "cell_type": "code",
   "execution_count": 36,
   "metadata": {
    "scrolled": false
   },
   "outputs": [
    {
     "data": {
      "text/html": [
       "<div>\n",
       "<style>\n",
       "    .dataframe thead tr:only-child th {\n",
       "        text-align: right;\n",
       "    }\n",
       "\n",
       "    .dataframe thead th {\n",
       "        text-align: left;\n",
       "    }\n",
       "\n",
       "    .dataframe tbody tr th {\n",
       "        vertical-align: top;\n",
       "    }\n",
       "</style>\n",
       "<table border=\"1\" class=\"dataframe\">\n",
       "  <thead>\n",
       "    <tr style=\"text-align: right;\">\n",
       "      <th></th>\n",
       "      <th>ageM</th>\n",
       "      <th>ageB</th>\n",
       "    </tr>\n",
       "  </thead>\n",
       "  <tbody>\n",
       "    <tr>\n",
       "      <th>count</th>\n",
       "      <td>102243.000000</td>\n",
       "      <td>102243.000000</td>\n",
       "    </tr>\n",
       "    <tr>\n",
       "      <th>mean</th>\n",
       "      <td>37.935839</td>\n",
       "      <td>35.669454</td>\n",
       "    </tr>\n",
       "    <tr>\n",
       "      <th>std</th>\n",
       "      <td>11.684663</td>\n",
       "      <td>9.558067</td>\n",
       "    </tr>\n",
       "    <tr>\n",
       "      <th>min</th>\n",
       "      <td>16.000000</td>\n",
       "      <td>16.000000</td>\n",
       "    </tr>\n",
       "    <tr>\n",
       "      <th>25%</th>\n",
       "      <td>29.000000</td>\n",
       "      <td>29.000000</td>\n",
       "    </tr>\n",
       "    <tr>\n",
       "      <th>50%</th>\n",
       "      <td>35.000000</td>\n",
       "      <td>34.000000</td>\n",
       "    </tr>\n",
       "    <tr>\n",
       "      <th>75%</th>\n",
       "      <td>46.000000</td>\n",
       "      <td>41.000000</td>\n",
       "    </tr>\n",
       "    <tr>\n",
       "      <th>max</th>\n",
       "      <td>130.000000</td>\n",
       "      <td>130.000000</td>\n",
       "    </tr>\n",
       "  </tbody>\n",
       "</table>\n",
       "</div>"
      ],
      "text/plain": [
       "                ageM           ageB\n",
       "count  102243.000000  102243.000000\n",
       "mean       37.935839      35.669454\n",
       "std        11.684663       9.558067\n",
       "min        16.000000      16.000000\n",
       "25%        29.000000      29.000000\n",
       "50%        35.000000      34.000000\n",
       "75%        46.000000      41.000000\n",
       "max       130.000000     130.000000"
      ]
     },
     "execution_count": 36,
     "metadata": {},
     "output_type": "execute_result"
    }
   ],
   "source": [
    "# Rename columns and make sure observation sizes are paired up\n",
    "df6.columns = ['ageM', 'ageB']\n",
    "df6.describe()"
   ]
  },
  {
   "cell_type": "code",
   "execution_count": 37,
   "metadata": {},
   "outputs": [
    {
     "data": {
      "text/html": [
       "<div>\n",
       "<style>\n",
       "    .dataframe thead tr:only-child th {\n",
       "        text-align: right;\n",
       "    }\n",
       "\n",
       "    .dataframe thead th {\n",
       "        text-align: left;\n",
       "    }\n",
       "\n",
       "    .dataframe tbody tr th {\n",
       "        vertical-align: top;\n",
       "    }\n",
       "</style>\n",
       "<table border=\"1\" class=\"dataframe\">\n",
       "  <thead>\n",
       "    <tr style=\"text-align: right;\">\n",
       "      <th></th>\n",
       "      <th>ageM</th>\n",
       "      <th>ageB</th>\n",
       "    </tr>\n",
       "  </thead>\n",
       "  <tbody>\n",
       "    <tr>\n",
       "      <th>0</th>\n",
       "      <td>16.0</td>\n",
       "      <td>16.0</td>\n",
       "    </tr>\n",
       "    <tr>\n",
       "      <th>1</th>\n",
       "      <td>16.0</td>\n",
       "      <td>16.0</td>\n",
       "    </tr>\n",
       "    <tr>\n",
       "      <th>2</th>\n",
       "      <td>16.0</td>\n",
       "      <td>16.0</td>\n",
       "    </tr>\n",
       "    <tr>\n",
       "      <th>3</th>\n",
       "      <td>16.0</td>\n",
       "      <td>16.0</td>\n",
       "    </tr>\n",
       "    <tr>\n",
       "      <th>4</th>\n",
       "      <td>16.0</td>\n",
       "      <td>16.0</td>\n",
       "    </tr>\n",
       "  </tbody>\n",
       "</table>\n",
       "</div>"
      ],
      "text/plain": [
       "   ageM  ageB\n",
       "0  16.0  16.0\n",
       "1  16.0  16.0\n",
       "2  16.0  16.0\n",
       "3  16.0  16.0\n",
       "4  16.0  16.0"
      ]
     },
     "execution_count": 37,
     "metadata": {},
     "output_type": "execute_result"
    }
   ],
   "source": [
    "# Sort ascendingly\n",
    "df6 = df6.apply(lambda x: x.sort_values().values)\n",
    "df6.head()"
   ]
  },
  {
   "cell_type": "markdown",
   "metadata": {
    "run_control": {
     "frozen": false,
     "read_only": false
    }
   },
   "source": [
    "## Pearson's test for correlation\n",
    "\n",
    "http://docs.scipy.org/doc/scipy/reference/generated/scipy.stats.pearsonr.html#scipy.stats.pearsonr\n",
    "\n",
    "### Pearson's is a pairwise test, the samples need to be:\n",
    "\n",
    "**1. paired**\n",
    "\n",
    "**2. sorted**\n",
    "\n",
    "> Test for non-correlation.\n",
    "\n",
    "> The Pearson correlation coefficient measures the linear relationship between two datasets. $r$ varies between -1 and +1 with 0 implying no correlation.\n",
    "\n",
    "> The p-value roughly indicates the probability of an uncorrelated system producing datasets that have a Pearson correlation at least as extreme as the one computed from these datasets. The p-values are not entirely reliable but are probably reasonable for datasets larger than 500 or so.\n",
    "\n",
    "> **Returns: Pearson’s correlation coefficient, two-tailed p-value**"
   ]
  },
  {
   "cell_type": "code",
   "execution_count": 38,
   "metadata": {
    "ExecuteTime": {
     "end_time": "2017-10-05T17:05:04.485128",
     "start_time": "2017-10-05T17:05:04.480928"
    },
    "run_control": {
     "frozen": false,
     "read_only": false
    }
   },
   "outputs": [
    {
     "name": "stdout",
     "output_type": "stream",
     "text": [
      "(0.9921844317514964, 0.0)\n"
     ]
    }
   ],
   "source": [
    "# Conduct Pearson's test\n",
    "pr2 = st.pearsonr(df6.ageM, df6.ageB)\n",
    "print(pr2)"
   ]
  },
  {
   "cell_type": "markdown",
   "metadata": {},
   "source": [
    "## Discussion\n",
    "### Null Hypothesis: There is no correlation between Manhattan rider age and Brooklyn rider age ($\\rho = 0$)\n",
    "\n",
    "That is, in our context, the null hypothesis to be tested is that the distributions are not similar at all.\n",
    "\n",
    "Since I have sorted the age in ascending order, the **alternative** is that:\n",
    "\n",
    "Literally, older Manhattan riders are correlated with older Brooklyn riders.\n",
    "\n",
    "In our context, that means if we have a $\\rho = 1$, the distributions overlap each other perfectly.\n",
    "\n",
    "### Significance Level: $\\alpha = 0.05$\n",
    "### Test Outputs: Pearson's corr. coef. = 0.992 and the p-value = 0.0\n",
    "### Result: We rejected the null hypothesis since the p-value is less than 0.05.\n",
    "\n",
    "The inference we have is that it is very unlikely the two distributions have no correlations. In other words, they are actually pretty identical with a corr. coef. of nearly 1."
   ]
  },
  {
   "cell_type": "markdown",
   "metadata": {
    "run_control": {
     "frozen": false,
     "read_only": false
    }
   },
   "source": [
    "## Spearman's test for correlation\n",
    "\n",
    "http://docs.scipy.org/doc/scipy/reference/generated/scipy.stats.spearmanr.html#scipy.stats.spearmanr\n",
    "\n",
    "> Test for non-correlation.\n",
    "\n",
    "> **Returns: Spearman correlation matrix/coefficient, two-tailed p-value**"
   ]
  },
  {
   "cell_type": "code",
   "execution_count": 39,
   "metadata": {
    "ExecuteTime": {
     "end_time": "2017-10-05T17:05:09.530148",
     "start_time": "2017-10-05T17:05:09.525214"
    },
    "run_control": {
     "frozen": false,
     "read_only": false
    }
   },
   "outputs": [
    {
     "name": "stdout",
     "output_type": "stream",
     "text": [
      "SpearmanrResult(correlation=0.99875418090088419, pvalue=0.0)\n"
     ]
    }
   ],
   "source": [
    "# Conduct Spearman's test\n",
    "sr2 = st.spearmanr(df6.ageM, df6.ageB)\n",
    "print(sr2)"
   ]
  },
  {
   "cell_type": "markdown",
   "metadata": {
    "collapsed": true,
    "run_control": {
     "frozen": false,
     "read_only": false
    }
   },
   "source": [
    "## Discussion\n",
    "### Null Hypothesis: There is no correlation between Manhattan rider age and Brooklyn rider age ($\\rho = 0$)\n",
    "\n",
    "That is, in our context, the null hypothesis to be tested is that the distributions are not similar at all.\n",
    "\n",
    "Since I have sorted the age in ascending order, the **alternative** is that:\n",
    "\n",
    "Literally, older Manhattan riders are correlated with older Brooklyn riders.\n",
    "\n",
    "In our context, that means if we have a $\\rho = 1$, the distributions overlap each other perfectly.\n",
    "\n",
    "### Significance Level: $\\alpha = 0.05$\n",
    "### Test Outputs: Pearson's corr. coef. = 1 (0.999...) and the p-value = 0.0\n",
    "### Result: We rejected the null hypothesis since the p-value is less than 0.05.\n",
    "\n",
    "The inference we have is that it is very unlikely the two distributions have no correlations. In other words, they are actually pretty identical with a corr. coef. of nearly 1."
   ]
  },
  {
   "cell_type": "code",
   "execution_count": null,
   "metadata": {
    "collapsed": true
   },
   "outputs": [],
   "source": []
  }
 ],
 "metadata": {
  "anaconda-cloud": {},
  "kernelspec": {
   "display_name": "Python 3",
   "language": "python",
   "name": "python3"
  },
  "language_info": {
   "codemirror_mode": {
    "name": "ipython",
    "version": 3
   },
   "file_extension": ".py",
   "mimetype": "text/x-python",
   "name": "python",
   "nbconvert_exporter": "python",
   "pygments_lexer": "ipython3",
   "version": "3.6.1"
  },
  "latex_envs": {
   "LaTeX_envs_menu_present": true,
   "bibliofile": "biblio.bib",
   "cite_by": "apalike",
   "current_citInitial": 1,
   "eqLabelWithNumbers": true,
   "eqNumInitial": 1,
   "hotkeys": {
    "equation": "Ctrl-E",
    "itemize": "Ctrl-I"
   },
   "labels_anchors": false,
   "latex_user_defs": false,
   "report_style_numbering": false,
   "user_envs_cfg": false
  },
  "toc": {
   "colors": {
    "hover_highlight": "#DAA520",
    "running_highlight": "#FF0000",
    "selected_highlight": "#FFD700"
   },
   "moveMenuLeft": true,
   "nav_menu": {
    "height": "135px",
    "width": "251px"
   },
   "navigate_menu": true,
   "number_sections": true,
   "sideBar": true,
   "threshold": 4,
   "toc_cell": false,
   "toc_section_display": "block",
   "toc_window_display": false
  }
 },
 "nbformat": 4,
 "nbformat_minor": 1
}
