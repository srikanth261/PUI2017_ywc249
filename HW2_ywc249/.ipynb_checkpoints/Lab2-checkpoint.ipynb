{
 "cells": [
  {
   "cell_type": "code",
   "execution_count": 1,
   "metadata": {},
   "outputs": [
    {
     "data": {
      "text/plain": [
       "'/Users/Yuwen/Dropbox/PUI2017/HW2_ywc249'"
      ]
     },
     "execution_count": 1,
     "metadata": {},
     "output_type": "execute_result"
    }
   ],
   "source": [
    "import pandas as pd\n",
    "import os\n",
    "os.getenv('PUIDATA')\n",
    "os.getcwd()"
   ]
  },
  {
   "cell_type": "code",
   "execution_count": 2,
   "metadata": {},
   "outputs": [
    {
     "data": {
      "text/plain": [
       "0"
      ]
     },
     "execution_count": 2,
     "metadata": {},
     "output_type": "execute_result"
    }
   ],
   "source": [
    "os.system('wget https://raw.githubusercontent.com/fedhere/PUI2017_fb55/master/Lab2_fb55/IntrotoStats_Table6_1.csv')\n",
    "os.system('mv IntrotoStats_Table6_1.csv $PUIDATA')"
   ]
  },
  {
   "cell_type": "code",
   "execution_count": 3,
   "metadata": {},
   "outputs": [
    {
     "data": {
      "text/html": [
       "<div>\n",
       "<style>\n",
       "    .dataframe thead tr:only-child th {\n",
       "        text-align: right;\n",
       "    }\n",
       "\n",
       "    .dataframe thead th {\n",
       "        text-align: left;\n",
       "    }\n",
       "\n",
       "    .dataframe tbody tr th {\n",
       "        vertical-align: top;\n",
       "    }\n",
       "</style>\n",
       "<table border=\"1\" class=\"dataframe\">\n",
       "  <thead>\n",
       "    <tr style=\"text-align: right;\">\n",
       "      <th></th>\n",
       "      <th>#Students Name</th>\n",
       "      <th>Hair Color</th>\n",
       "      <th>Gender</th>\n",
       "      <th>Major</th>\n",
       "      <th>Height</th>\n",
       "      <th>Computer Experience</th>\n",
       "    </tr>\n",
       "  </thead>\n",
       "  <tbody>\n",
       "    <tr>\n",
       "      <th>0</th>\n",
       "      <td>Norma</td>\n",
       "      <td>Brown</td>\n",
       "      <td>Female</td>\n",
       "      <td>Psychology</td>\n",
       "      <td>5'4\"</td>\n",
       "      <td>Lots</td>\n",
       "    </tr>\n",
       "    <tr>\n",
       "      <th>1</th>\n",
       "      <td>Amber</td>\n",
       "      <td>Blonde</td>\n",
       "      <td>Female</td>\n",
       "      <td>Social Science</td>\n",
       "      <td>5'7\"</td>\n",
       "      <td>Very Little</td>\n",
       "    </tr>\n",
       "    <tr>\n",
       "      <th>2</th>\n",
       "      <td>Paul</td>\n",
       "      <td>Blonde</td>\n",
       "      <td>Male</td>\n",
       "      <td>History</td>\n",
       "      <td>6'1\"</td>\n",
       "      <td>Moderate</td>\n",
       "    </tr>\n",
       "    <tr>\n",
       "      <th>3</th>\n",
       "      <td>Christopher</td>\n",
       "      <td>Black</td>\n",
       "      <td>Male</td>\n",
       "      <td>Biology</td>\n",
       "      <td>5'10\"</td>\n",
       "      <td>Lots</td>\n",
       "    </tr>\n",
       "    <tr>\n",
       "      <th>4</th>\n",
       "      <td>Sonya</td>\n",
       "      <td>Brown</td>\n",
       "      <td>Female</td>\n",
       "      <td>Psychology</td>\n",
       "      <td>5'4\"</td>\n",
       "      <td>Little</td>\n",
       "    </tr>\n",
       "  </tbody>\n",
       "</table>\n",
       "</div>"
      ],
      "text/plain": [
       "  #Students Name Hair Color  Gender           Major Height Computer Experience\n",
       "0          Norma      Brown  Female      Psychology   5'4\"                Lots\n",
       "1          Amber     Blonde  Female  Social Science   5'7\"         Very Little\n",
       "2           Paul     Blonde    Male         History   6'1\"            Moderate\n",
       "3    Christopher      Black    Male         Biology  5'10\"                Lots\n",
       "4          Sonya      Brown  Female      Psychology   5'4\"              Little"
      ]
     },
     "execution_count": 3,
     "metadata": {},
     "output_type": "execute_result"
    }
   ],
   "source": [
    "data = pd.read_csv(os.getenv('PUIDATA') + '/IntrotoStats_Table6_1.csv')\n",
    "data.head()"
   ]
  },
  {
   "cell_type": "code",
   "execution_count": 4,
   "metadata": {},
   "outputs": [
    {
     "data": {
      "text/plain": [
       "array(['Psychology', 'Social Science', 'History', 'Biology', 'Psychology'], dtype=object)"
      ]
     },
     "execution_count": 4,
     "metadata": {},
     "output_type": "execute_result"
    }
   ],
   "source": [
    "data['Major'].values"
   ]
  },
  {
   "cell_type": "code",
   "execution_count": 5,
   "metadata": {},
   "outputs": [
    {
     "data": {
      "text/html": [
       "<div>\n",
       "<style>\n",
       "    .dataframe thead tr:only-child th {\n",
       "        text-align: right;\n",
       "    }\n",
       "\n",
       "    .dataframe thead th {\n",
       "        text-align: left;\n",
       "    }\n",
       "\n",
       "    .dataframe tbody tr th {\n",
       "        vertical-align: top;\n",
       "    }\n",
       "</style>\n",
       "<table border=\"1\" class=\"dataframe\">\n",
       "  <thead>\n",
       "    <tr style=\"text-align: right;\">\n",
       "      <th></th>\n",
       "      <th>#Students Name</th>\n",
       "      <th>Hair Color</th>\n",
       "      <th>Gender</th>\n",
       "      <th>Major</th>\n",
       "      <th>Height</th>\n",
       "      <th>Computer Experience</th>\n",
       "    </tr>\n",
       "  </thead>\n",
       "  <tbody>\n",
       "    <tr>\n",
       "      <th>0</th>\n",
       "      <td>Norma</td>\n",
       "      <td>Brown</td>\n",
       "      <td>0</td>\n",
       "      <td>Psychology</td>\n",
       "      <td>5'4\"</td>\n",
       "      <td>Lots</td>\n",
       "    </tr>\n",
       "    <tr>\n",
       "      <th>1</th>\n",
       "      <td>Amber</td>\n",
       "      <td>Blonde</td>\n",
       "      <td>0</td>\n",
       "      <td>Social Science</td>\n",
       "      <td>5'7\"</td>\n",
       "      <td>0</td>\n",
       "    </tr>\n",
       "    <tr>\n",
       "      <th>2</th>\n",
       "      <td>Paul</td>\n",
       "      <td>Blonde</td>\n",
       "      <td>1</td>\n",
       "      <td>History</td>\n",
       "      <td>6'1\"</td>\n",
       "      <td>Moderate</td>\n",
       "    </tr>\n",
       "    <tr>\n",
       "      <th>3</th>\n",
       "      <td>Christopher</td>\n",
       "      <td>Black</td>\n",
       "      <td>1</td>\n",
       "      <td>Biology</td>\n",
       "      <td>5'10\"</td>\n",
       "      <td>Lots</td>\n",
       "    </tr>\n",
       "    <tr>\n",
       "      <th>4</th>\n",
       "      <td>Sonya</td>\n",
       "      <td>Brown</td>\n",
       "      <td>0</td>\n",
       "      <td>Psychology</td>\n",
       "      <td>5'4\"</td>\n",
       "      <td>1</td>\n",
       "    </tr>\n",
       "  </tbody>\n",
       "</table>\n",
       "</div>"
      ],
      "text/plain": [
       "  #Students Name Hair Color  Gender           Major Height Computer Experience\n",
       "0          Norma      Brown       0      Psychology   5'4\"                Lots\n",
       "1          Amber     Blonde       0  Social Science   5'7\"                   0\n",
       "2           Paul     Blonde       1         History   6'1\"            Moderate\n",
       "3    Christopher      Black       1         Biology  5'10\"                Lots\n",
       "4          Sonya      Brown       0      Psychology   5'4\"                   1"
      ]
     },
     "execution_count": 5,
     "metadata": {},
     "output_type": "execute_result"
    }
   ],
   "source": [
    "data['Gender'] = data['Gender'].replace('Female', 0)\n",
    "data['Gender'] = data['Gender'].replace('Male', 1)\n",
    "\n",
    "dict1 = {'Very Little':0, 'Little':1}\n",
    "data['Computer Experience'] = data['Computer Experience'].replace(dict1)\n",
    "\n",
    "data"
   ]
  },
  {
   "cell_type": "code",
   "execution_count": 6,
   "metadata": {
    "collapsed": true
   },
   "outputs": [],
   "source": [
    "def str_to_height(s):\n",
    "    h = s.split(\"\\'\")\n",
    "    feet = int(h[0])\n",
    "    inches = int(h[1].strip('\"'))\n",
    "    return feet + inches / 12."
   ]
  },
  {
   "cell_type": "code",
   "execution_count": 7,
   "metadata": {},
   "outputs": [],
   "source": [
    "data['Height'] = data.Height.map(str_to_height)"
   ]
  },
  {
   "cell_type": "code",
   "execution_count": 8,
   "metadata": {},
   "outputs": [
    {
     "data": {
      "text/html": [
       "<div>\n",
       "<style>\n",
       "    .dataframe thead tr:only-child th {\n",
       "        text-align: right;\n",
       "    }\n",
       "\n",
       "    .dataframe thead th {\n",
       "        text-align: left;\n",
       "    }\n",
       "\n",
       "    .dataframe tbody tr th {\n",
       "        vertical-align: top;\n",
       "    }\n",
       "</style>\n",
       "<table border=\"1\" class=\"dataframe\">\n",
       "  <thead>\n",
       "    <tr style=\"text-align: right;\">\n",
       "      <th></th>\n",
       "      <th>#Students Name</th>\n",
       "      <th>Hair Color</th>\n",
       "      <th>Gender</th>\n",
       "      <th>Major</th>\n",
       "      <th>Height</th>\n",
       "      <th>Computer Experience</th>\n",
       "    </tr>\n",
       "  </thead>\n",
       "  <tbody>\n",
       "    <tr>\n",
       "      <th>0</th>\n",
       "      <td>Norma</td>\n",
       "      <td>Brown</td>\n",
       "      <td>0</td>\n",
       "      <td>Psychology</td>\n",
       "      <td>5.333333</td>\n",
       "      <td>Lots</td>\n",
       "    </tr>\n",
       "    <tr>\n",
       "      <th>1</th>\n",
       "      <td>Amber</td>\n",
       "      <td>Blonde</td>\n",
       "      <td>0</td>\n",
       "      <td>Social Science</td>\n",
       "      <td>5.583333</td>\n",
       "      <td>0</td>\n",
       "    </tr>\n",
       "    <tr>\n",
       "      <th>2</th>\n",
       "      <td>Paul</td>\n",
       "      <td>Blonde</td>\n",
       "      <td>1</td>\n",
       "      <td>History</td>\n",
       "      <td>6.083333</td>\n",
       "      <td>Moderate</td>\n",
       "    </tr>\n",
       "    <tr>\n",
       "      <th>3</th>\n",
       "      <td>Christopher</td>\n",
       "      <td>Black</td>\n",
       "      <td>1</td>\n",
       "      <td>Biology</td>\n",
       "      <td>5.833333</td>\n",
       "      <td>Lots</td>\n",
       "    </tr>\n",
       "    <tr>\n",
       "      <th>4</th>\n",
       "      <td>Sonya</td>\n",
       "      <td>Brown</td>\n",
       "      <td>0</td>\n",
       "      <td>Psychology</td>\n",
       "      <td>5.333333</td>\n",
       "      <td>1</td>\n",
       "    </tr>\n",
       "  </tbody>\n",
       "</table>\n",
       "</div>"
      ],
      "text/plain": [
       "  #Students Name Hair Color  Gender           Major    Height  \\\n",
       "0          Norma      Brown       0      Psychology  5.333333   \n",
       "1          Amber     Blonde       0  Social Science  5.583333   \n",
       "2           Paul     Blonde       1         History  6.083333   \n",
       "3    Christopher      Black       1         Biology  5.833333   \n",
       "4          Sonya      Brown       0      Psychology  5.333333   \n",
       "\n",
       "  Computer Experience  \n",
       "0                Lots  \n",
       "1                   0  \n",
       "2            Moderate  \n",
       "3                Lots  \n",
       "4                   1  "
      ]
     },
     "execution_count": 8,
     "metadata": {},
     "output_type": "execute_result"
    }
   ],
   "source": [
    "data"
   ]
  }
 ],
 "metadata": {
  "kernelspec": {
   "display_name": "Python 3",
   "language": "python",
   "name": "python3"
  },
  "language_info": {
   "codemirror_mode": {
    "name": "ipython",
    "version": 3
   },
   "file_extension": ".py",
   "mimetype": "text/x-python",
   "name": "python",
   "nbconvert_exporter": "python",
   "pygments_lexer": "ipython3",
   "version": "3.6.1"
  }
 },
 "nbformat": 4,
 "nbformat_minor": 2
}
